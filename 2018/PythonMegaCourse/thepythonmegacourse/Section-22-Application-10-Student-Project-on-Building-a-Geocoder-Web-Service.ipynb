{
 "cells": [
  {
   "cell_type": "markdown",
   "metadata": {},
   "source": [
    "# The Python Mega Course: Build 10 Real World Applications\n",
    "---"
   ]
  },
  {
   "cell_type": "markdown",
   "metadata": {},
   "source": [
    "This notebook is a summary of [The Python Mega Course: Build 10 Real World Applciations](https://www.udemy.com/the-python-mega-course), a comprehensive online Python course taught by Ardit Sulce. Each lecture name is clickable and takes you to the video lecture in the course."
   ]
  },
  {
   "cell_type": "markdown",
   "metadata": {},
   "source": [
    "# Section 22: Application 10: Student Project on Building a Geocoder Web Service\n",
    "***"
   ]
  },
  {
   "cell_type": "markdown",
   "metadata": {},
   "source": [
    "**Lecture:** [Program Demonstration](https://www.udemy.com/the-python-mega-course/learn/v4/t/lecture/9439078?start=0)\n",
    "---"
   ]
  },
  {
   "cell_type": "markdown",
   "metadata": {},
   "source": [
    "This video lecture shows the finished version of the website running on a browser. The goal for this section is that students try to build this web app on their own and then they can compare ther solution with the one provided here."
   ]
  },
  {
   "cell_type": "markdown",
   "metadata": {},
   "source": [
    "**Lecture:** [Solution, Part 1](https://www.udemy.com/the-python-mega-course/learn/v4/t/lecture/9439078?start=0)\n",
    "---"
   ]
  },
  {
   "cell_type": "markdown",
   "metadata": {},
   "source": [
    "For the final solution please see the lecture titled \"Final Code of Application 10\" down below."
   ]
  },
  {
   "cell_type": "markdown",
   "metadata": {},
   "source": [
    "**Lecture:** [Solution, Part 2](https://www.udemy.com/the-python-mega-course/learn/v4/t/lecture/9439078?start=0)\n",
    "---"
   ]
  },
  {
   "cell_type": "markdown",
   "metadata": {},
   "source": [
    "For the final solution please see the lecture titled \"Final Code of Application 10\" down below."
   ]
  },
  {
   "cell_type": "markdown",
   "metadata": {},
   "source": [
    "**Lecture:** [End of the Course](https://www.udemy.com/the-python-mega-course/learn/v4/t/lecture/9439078?start=0)\n",
    "---"
   ]
  },
  {
   "cell_type": "markdown",
   "metadata": {},
   "source": [
    "This video lecture covers some final remarks about the course and what to do next."
   ]
  },
  {
   "cell_type": "markdown",
   "metadata": {},
   "source": [
    "**Lecture:** [Final Code of Application 10]()\n",
    "---"
   ]
  },
  {
   "cell_type": "markdown",
   "metadata": {},
   "source": [
    "Project directory tree:"
   ]
  },
  {
   "cell_type": "markdown",
   "metadata": {
    "collapsed": true
   },
   "source": [
    "`templates\n",
    "  index.html\n",
    "  download.html\n",
    "static\n",
    "  main.css\n",
    "app.py\n",
    "Procfile\n",
    "requirements.txt\n",
    "runtime.txt`"
   ]
  },
  {
   "cell_type": "markdown",
   "metadata": {},
   "source": [
    "app.py"
   ]
  },
  {
   "cell_type": "code",
   "execution_count": null,
   "metadata": {
    "collapsed": true
   },
   "outputs": [],
   "source": [
    "from flask import Flask, render_template, request, send_file\n",
    "from geopy.geocoders import Nominatim\n",
    "import pandas\n",
    "import datetime\n",
    "\n",
    "app=Flask(__name__)\n",
    "\n",
    "@app.route(\"/\")\n",
    "def index():\n",
    "    return render_template(\"index.html\")\n",
    "\n",
    "@app.route('/success-table', methods=['POST'])\n",
    "def success_table():\n",
    "    global filename\n",
    "    if request.method==\"POST\":\n",
    "        file=request.files['file']\n",
    "        try:\n",
    "            df=pandas.read_csv(file)\n",
    "            gc=Nominatim(scheme='http')\n",
    "            df[\"coordinates\"]=df[\"Address\"].apply(gc.geocode)\n",
    "            df['Latitude'] = df['coordinates'].apply(lambda x: x.latitude if x != None else None)\n",
    "            df['Longitude'] = df['coordinates'].apply(lambda x: x.longitude if x != None else None)\n",
    "            df=df.drop(\"coordinates\",1)\n",
    "            filename=datetime.datetime.now().strftime(\"sample_files/%Y-%m-%d-%H-%M-%S-%f\"+\".csv\")\n",
    "            df.to_csv(filename,index=None)\n",
    "            return render_template(\"index.html\", text=df.to_html(), btn='download.html')\n",
    "        except Exception as e:\n",
    "            return render_template(\"index.html\", text=str(e))\n",
    "\n",
    "@app.route(\"/download-file/\")\n",
    "def download():\n",
    "    return send_file(filename, attachment_filename='yourfile.csv', as_attachment=True)\n",
    "\n",
    "if __name__==\"__main__\":\n",
    "    app.run(debug=True)"
   ]
  },
  {
   "cell_type": "markdown",
   "metadata": {},
   "source": [
    "templates/index.html"
   ]
  },
  {
   "cell_type": "code",
   "execution_count": null,
   "metadata": {
    "collapsed": true
   },
   "outputs": [],
   "source": [
    "<!DOCTYPE html>\n",
    "<html lang=\"en\">\n",
    "<title> Super Geocoder </title>\n",
    "<head>\n",
    "  <link href=\"../static/main.css\" rel=\"stylesheet\">\n",
    "</head>\n",
    "  <body>\n",
    "    <div class=\"container\">\n",
    "      <h1>Super Geocoder</h1>\n",
    "      <h3>Please upload your CSV file. The values containing addresses should be in a column named <em>address</em> or <em>Address</em></h3>\n",
    "        <form action=\"{{url_for('success_table')}}\" method=\"POST\" enctype=\"multipart/form-data\">\n",
    "          <input type=\"file\" accept=\".csv\" name=\"file\" />\n",
    "          <button type=\"submit\"> Submit </button>\n",
    "        </form>\n",
    "      <div class=\"output\">\n",
    "        {{text|safe}}\n",
    "        {% include btn ignore missing %}\n",
    "      </div>\n",
    "  </div>\n",
    "  </body>\n",
    "</html>"
   ]
  },
  {
   "cell_type": "markdown",
   "metadata": {},
   "source": [
    "templates/download.html"
   ]
  },
  {
   "cell_type": "code",
   "execution_count": null,
   "metadata": {
    "collapsed": true
   },
   "outputs": [],
   "source": [
    "<!DOCTYPE html>\n",
    "<html lang=\"en\">\n",
    "<div class=\"download\">\n",
    "<a href={{url_for('download')}} target=\"blank\"> <button class=\"btn\">  Download </button></a>\n",
    "</div>\n",
    "</html>"
   ]
  },
  {
   "cell_type": "markdown",
   "metadata": {},
   "source": [
    "static/main.css"
   ]
  },
  {
   "cell_type": "code",
   "execution_count": null,
   "metadata": {
    "collapsed": true
   },
   "outputs": [],
   "source": [
    "html, body {\n",
    "  height: 100%;\n",
    "  margin: 0;\n",
    "}\n",
    "\n",
    ".container {\n",
    "  margin: 0 auto;\n",
    "  width: 100%;\n",
    "  height: 100%;\n",
    "  background-color: #006666;\n",
    "  color: #e6ffff;\n",
    "  overflow:hidden;\n",
    "  text-align: center;\n",
    "}\n",
    "\n",
    ".container form {\n",
    "  margin: 20px;\n",
    "}\n",
    "\n",
    ".container h1 {\n",
    "  font-family: Arial, sans-serif;\n",
    "  font-size: 30px;\n",
    "  color: #DDCCEE;\n",
    "  margin-top: 80px;\n",
    "}\n",
    "\n",
    ".container button {\n",
    "  width:70px;\n",
    "  height: 30px;\n",
    "  background-color: steelblue;\n",
    "  margin: 3px;\n",
    "}\n",
    "\n",
    ".container input {\n",
    "  width: 200px;\n",
    "  height: 15px;\n",
    "  font-size: 15px;\n",
    "  margin: 2px;\n",
    "  padding: 5px;\n",
    "  transition: all 0.2s ease-in-out;\n",
    "}\n",
    "\n",
    ".output {\n",
    "  display: inline-block;\n",
    "}"
   ]
  },
  {
   "cell_type": "markdown",
   "metadata": {},
   "source": [
    "The following files are only necessary if you deploy your app on Heroku"
   ]
  },
  {
   "cell_type": "markdown",
   "metadata": {},
   "source": [
    "Procfile"
   ]
  },
  {
   "cell_type": "markdown",
   "metadata": {
    "collapsed": true
   },
   "source": [
    "`web: gunicorn app:app`"
   ]
  },
  {
   "cell_type": "markdown",
   "metadata": {},
   "source": [
    "requirements.txt"
   ]
  },
  {
   "cell_type": "markdown",
   "metadata": {
    "collapsed": true
   },
   "source": [
    "`Flask==0.10.1\n",
    "gunicorn==19.6.0\n",
    "itsdangerous==0.24\n",
    "Jinja2==2.8\n",
    "MarkupSafe==0.23\n",
    "Werkzeug==0.11.10`"
   ]
  },
  {
   "cell_type": "markdown",
   "metadata": {},
   "source": [
    "runtime.txt (Go to the [Heroku Python runtime webpage](https://devcenter.heroku.com/articles/python-runtimes#supported-python-runtimes) to see the latest version of Python used by Heroku and put that version in runtime.txt instead of the one below)"
   ]
  },
  {
   "cell_type": "markdown",
   "metadata": {
    "collapsed": true
   },
   "source": [
    "`python-3.5.1`"
   ]
  }
 ],
 "metadata": {
  "kernelspec": {
   "display_name": "Python 3",
   "language": "python",
   "name": "python3"
  },
  "language_info": {
   "codemirror_mode": {
    "name": "ipython",
    "version": 3
   },
   "file_extension": ".py",
   "mimetype": "text/x-python",
   "name": "python",
   "nbconvert_exporter": "python",
   "pygments_lexer": "ipython3",
   "version": "3.6.3"
  }
 },
 "nbformat": 4,
 "nbformat_minor": 2
}
