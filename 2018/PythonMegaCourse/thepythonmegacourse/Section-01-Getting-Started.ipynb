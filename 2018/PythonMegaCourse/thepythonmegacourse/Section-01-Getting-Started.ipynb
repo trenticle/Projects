{
 "cells": [
  {
   "cell_type": "markdown",
   "metadata": {},
   "source": [
    "# The Python Mega Course: Build 10 Real World Applications\n",
    "---"
   ]
  },
  {
   "cell_type": "markdown",
   "metadata": {},
   "source": [
    "This notebook contains the source code for the video lectures of Section 1 of [The Python Mega Course: Build 10 Real World Applciations](https://www.udemy.com/the-python-mega-course/?couponCode=GITHEADSECTION)."
   ]
  },
  {
   "cell_type": "markdown",
   "metadata": {},
   "source": [
    "# Section 1: Getting Started\n",
    "***"
   ]
  },
  {
   "cell_type": "markdown",
   "metadata": {},
   "source": [
    "**Lecture 1:** [Course Introduction](https://www.udemy.com/the-python-mega-course/learn/v4/t/lecture/7163812?start=0)\n",
    "---"
   ]
  },
  {
   "cell_type": "markdown",
   "metadata": {},
   "source": [
    "This video introduces you to the course. Please click the link above to go to the video."
   ]
  },
  {
   "cell_type": "markdown",
   "metadata": {},
   "source": [
    "**Lecture 2:** [Important Video](https://www.udemy.com/the-python-mega-course/learn/v4/t/lecture/9522398?start=60) \n",
    "---"
   ]
  },
  {
   "cell_type": "markdown",
   "metadata": {},
   "source": [
    "**Lecture 3:** [Create your First Python Program](https://www.udemy.com/the-python-mega-course/learn/v4/t/lecture/9520338)\n",
    "---"
   ]
  },
  {
   "cell_type": "markdown",
   "metadata": {},
   "source": [
    "A Python program is some Python code that produces some output. Here's an example:"
   ]
  },
  {
   "cell_type": "code",
   "execution_count": 62,
   "metadata": {
    "scrolled": true
   },
   "outputs": [
    {
     "name": "stdout",
     "output_type": "stream",
     "text": [
      "Hello!\n"
     ]
    }
   ],
   "source": [
    "print(\"Hello!\")"
   ]
  },
  {
   "cell_type": "markdown",
   "metadata": {},
   "source": [
    "That program outputs the text `Hello!`."
   ]
  },
  {
   "cell_type": "markdown",
   "metadata": {},
   "source": [
    "**Lecture 4:** [Useful Commands of the Command Line Interface](https://www.udemy.com/the-python-mega-course/learn/v4/t/lecture/9520352?start=0)\n",
    "---"
   ]
  },
  {
   "cell_type": "markdown",
   "metadata": {},
   "source": [
    "This lecture contains the most useful Unix commands you can use to interact with Unix computers and servers via the terminal:"
   ]
  },
  {
   "cell_type": "markdown",
   "metadata": {},
   "source": [
    "\n",
    "\n",
    "`ls`  \tList files and directories of current directory\n",
    "\n",
    "`ls myfolder` \tList files and directories of a specific folder (e.g. myfolder)\n",
    "\n",
    "`pwd` \tGet current directory path\n",
    "\n",
    "`clear` \tClear the terminal\n",
    "\n",
    "`touch example.txt`   \tCreate new file\n",
    "\n",
    "`mkdir`   \tCreate new directory\n",
    "\n",
    "`cd myfolder` \tChange directory to myfolder\n",
    "\n",
    "`cd ..` Go back one directory\n",
    "\n",
    "`cp example.txt myfolder/example.txt`    Copy example.txt file to myfolder\n",
    "\n",
    "`mv example.txt myfolder/example.txt`    Move example.txt to myfolder\n",
    "\n",
    "`rm example.txt`    Delete example.txt\n",
    "\n",
    "`rm -r myfolder`   Delete myfolder and its content\n",
    "\n",
    "`mv example.txt myexample.txt`    Rename example.txt to myexample.txt\n",
    "\n",
    "`tree`    Get current directory structure\n",
    "\n",
    "`find . -name example.txt`    Find file or directory\n",
    "\n",
    "`cat example.txt`    Display file content\n",
    "\n",
    "`du example.txt`    Get file or directory size\n",
    "\n",
    "`zip example.zip example.txt`    Compress example.txt to example.zip\n",
    "\n",
    "`unzip example.zip`    Unzip example.zip to current directory\n",
    "\n",
    "`zip -r example.zip myfolder`    Compress all files of myfolder to example.zip\n",
    "\n",
    "`man pwd`    Show help for a command\n",
    "\n",
    "`help pwd`    Alternative of man pwd\n",
    "\n",
    "`pip3 install —user library`    Installs a library for Python 3\n",
    "\n",
    "`pip3 uninstall library`    Uninstall a Python 3 library\n"
   ]
  },
  {
   "cell_type": "markdown",
   "metadata": {},
   "source": [
    "**Lecture 5:** [Running Python Interactively](https://www.udemy.com/the-python-mega-course/learn/v4/t/lecture/9520356?start=0)\n",
    "----"
   ]
  },
  {
   "cell_type": "markdown",
   "metadata": {},
   "source": [
    "You can use your Python interactive shell to execute single lines of code in a quick way by starting Python from your terminal with the `python` or `python3` command. Or you can use Jupyter which is also an interactive shell."
   ]
  },
  {
   "cell_type": "markdown",
   "metadata": {},
   "source": [
    "For examples, writing single lines of code and getting output right away is referred to as interactive programming."
   ]
  },
  {
   "cell_type": "code",
   "execution_count": 15,
   "metadata": {
    "scrolled": true
   },
   "outputs": [
    {
     "name": "stdout",
     "output_type": "stream",
     "text": [
      "Hello\n"
     ]
    }
   ],
   "source": [
    "print(\"Hello\")"
   ]
  },
  {
   "cell_type": "code",
   "execution_count": 16,
   "metadata": {},
   "outputs": [
    {
     "data": {
      "text/plain": [
       "7"
      ]
     },
     "execution_count": 16,
     "metadata": {},
     "output_type": "execute_result"
    }
   ],
   "source": [
    "3 + 4"
   ]
  }
 ],
 "metadata": {
  "kernelspec": {
   "display_name": "Python 3",
   "language": "python",
   "name": "python3"
  },
  "language_info": {
   "codemirror_mode": {
    "name": "ipython",
    "version": 3
   },
   "file_extension": ".py",
   "mimetype": "text/x-python",
   "name": "python",
   "nbconvert_exporter": "python",
   "pygments_lexer": "ipython3",
   "version": "3.6.3"
  }
 },
 "nbformat": 4,
 "nbformat_minor": 2
}
