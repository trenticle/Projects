{
 "cells": [
  {
   "cell_type": "markdown",
   "metadata": {},
   "source": [
    "# The Python Mega Course: Build 10 Real World Applications\n",
    "---"
   ]
  },
  {
   "cell_type": "markdown",
   "metadata": {},
   "source": [
    "This notebook contains the source code for the video lectures of Section 2 of [The Python Mega Course: Build 10 Real World Applciations](https://www.udemy.com/the-python-mega-course/?couponCode=GITHEADSECTION)."
   ]
  },
  {
   "cell_type": "markdown",
   "metadata": {},
   "source": [
    "# Section 2: Python Basics\n",
    "***"
   ]
  },
  {
   "cell_type": "markdown",
   "metadata": {},
   "source": [
    "**Lecture 6:** [Program Output Explained](https://www.udemy.com/the-python-mega-course/learn/v4/t/lecture/9520396?start=0)\n",
    "---"
   ]
  },
  {
   "cell_type": "markdown",
   "metadata": {},
   "source": [
    "This lecture explains the output of the program that you're going to build throughout the next lectures. The code of this program is given below:'"
   ]
  },
  {
   "cell_type": "code",
   "execution_count": null,
   "metadata": {
    "collapsed": true
   },
   "outputs": [],
   "source": [
    "address = [\"Flat Floor Street\", \"18\", \"New York\"]\n",
    "pins = {\"Mike\":1234, \"Joe\":1111, \"Jack\":2222}\n",
    "\n",
    "print(address[0], address[1])\n",
    "\n",
    "pin = int(input(\"Enter your pin: \"))\n",
    "\n",
    "def find_in_file(f):    \n",
    "    myfile = open(\"sample.txt\")\n",
    "    fruits = myfile.read()\n",
    "    fruits = fruits.splitlines()\n",
    "    if f in fruits:\n",
    "        return \"That fruit is in the list.\"\n",
    "    else:\n",
    "        return \"No such fruit found!\"\n",
    "            \n",
    "if pin in pins.values():\n",
    "    fruit = input(\"Enter fruit: \")\n",
    "    print(find_in_file(fruit))\n",
    "else:\n",
    "    print(\"Incorrect pin!\") \n",
    "    print(\"This info can be accessed only by: \")\n",
    "    for key in pins.keys():\n",
    "        print(key)"
   ]
  },
  {
   "cell_type": "markdown",
   "metadata": {},
   "source": [
    "**Lecture 7: ** [Variables](https://www.udemy.com/the-python-mega-course/learn/v4/t/lecture/9520406?start=0)\n",
    "---"
   ]
  },
  {
   "cell_type": "code",
   "execution_count": 61,
   "metadata": {
    "collapsed": true
   },
   "outputs": [],
   "source": [
    "#Good examples of variables\n",
    "greeting = \"Hello\"\n",
    "greeting = \"Hi\"\n",
    "_greeting = \"Hi\"\n",
    "Greeting2 = \"Hi\""
   ]
  },
  {
   "cell_type": "code",
   "execution_count": 2,
   "metadata": {},
   "outputs": [
    {
     "ename": "SyntaxError",
     "evalue": "invalid syntax (<ipython-input-2-1b081248dc7c>, line 1)",
     "output_type": "error",
     "traceback": [
      "\u001b[0;36m  File \u001b[0;32m\"<ipython-input-2-1b081248dc7c>\"\u001b[0;36m, line \u001b[0;32m1\u001b[0m\n\u001b[0;31m    2greeting = \"hi\"\u001b[0m\n\u001b[0m            ^\u001b[0m\n\u001b[0;31mSyntaxError\u001b[0m\u001b[0;31m:\u001b[0m invalid syntax\n"
     ]
    }
   ],
   "source": [
    "#Bad example\n",
    "2greeting = \"hi\""
   ]
  },
  {
   "cell_type": "markdown",
   "metadata": {},
   "source": [
    "The above generates an error because variable names should not start with a nunber."
   ]
  },
  {
   "cell_type": "markdown",
   "metadata": {},
   "source": [
    "**Lecture 8:** [Strings](https://www.udemy.com/the-python-mega-course/learn/v4/t/lecture/9520420?start=0)\n",
    "---"
   ]
  },
  {
   "cell_type": "markdown",
   "metadata": {},
   "source": [
    "Strings are one of the many Python datatypes. They are basically text. Other datatypes are numbers, lists, booleans, etc."
   ]
  },
  {
   "cell_type": "code",
   "execution_count": 9,
   "metadata": {},
   "outputs": [
    {
     "name": "stdout",
     "output_type": "stream",
     "text": [
      "Hello\n"
     ]
    }
   ],
   "source": [
    "#Print string \"Hello\"\n",
    "print(\"Hello\")"
   ]
  },
  {
   "cell_type": "code",
   "execution_count": 8,
   "metadata": {},
   "outputs": [
    {
     "data": {
      "text/plain": [
       "str"
      ]
     },
     "execution_count": 8,
     "metadata": {},
     "output_type": "execute_result"
    }
   ],
   "source": [
    "#Get datatype of \"Hello\"\n",
    "type(\"Hello\")"
   ]
  },
  {
   "cell_type": "code",
   "execution_count": 12,
   "metadata": {},
   "outputs": [
    {
     "data": {
      "text/plain": [
       "str"
      ]
     },
     "execution_count": 12,
     "metadata": {},
     "output_type": "execute_result"
    }
   ],
   "source": [
    "#Everything enclosed in quotes is a string\n",
    "type(\"100\")"
   ]
  },
  {
   "cell_type": "code",
   "execution_count": 10,
   "metadata": {},
   "outputs": [
    {
     "data": {
      "text/plain": [
       "5"
      ]
     },
     "execution_count": 10,
     "metadata": {},
     "output_type": "execute_result"
    }
   ],
   "source": [
    "#Get length of \"Hello\"\n",
    "len(\"Hello\")"
   ]
  },
  {
   "cell_type": "code",
   "execution_count": 15,
   "metadata": {},
   "outputs": [
    {
     "data": {
      "text/plain": [
       "'HELLO'"
      ]
     },
     "execution_count": 15,
     "metadata": {},
     "output_type": "execute_result"
    }
   ],
   "source": [
    "#Convert to uppercase\n",
    "\"Hello\".upper()"
   ]
  },
  {
   "cell_type": "code",
   "execution_count": 20,
   "metadata": {},
   "outputs": [
    {
     "data": {
      "text/plain": [
       "['__add__', '__class__', '__contains__', '__delattr__', '__dir__', '__doc__', '__eq__', '__format__', '__ge__', '__getattribute__', '__getitem__', '__getnewargs__', '__gt__', '__hash__', '__init__', '__init_subclass__', '__iter__', '__le__', '__len__', '__lt__', '__mod__', '__mul__', '__ne__', '__new__', '__reduce__', '__reduce_ex__', '__repr__', '__rmod__', '__rmul__', '__setattr__', '__sizeof__', '__str__', '__subclasshook__', 'capitalize', 'casefold', 'center', 'count', 'encode', 'endswith', 'expandtabs', 'find', 'format', 'format_map', 'index', 'isalnum', 'isalpha', 'isdecimal', 'isdigit', 'isidentifier', 'islower', 'isnumeric', 'isprintable', 'isspace', 'istitle', 'isupper', 'join', 'ljust', 'lower', 'lstrip', 'maketrans', 'partition', 'replace', 'rfind', 'rindex', 'rjust', 'rpartition', 'rsplit', 'rstrip', 'split', 'splitlines', 'startswith', 'strip', 'swapcase', 'title', 'translate', 'upper', 'zfill']"
      ]
     },
     "execution_count": 20,
     "metadata": {},
     "output_type": "execute_result"
    }
   ],
   "source": [
    "#Like upper() there are many other methods \n",
    "#You can get the full list of methods with:\n",
    "dir(str)"
   ]
  },
  {
   "cell_type": "markdown",
   "metadata": {},
   "source": [
    "**Lecture 9:** [Numbers](https://www.udemy.com/the-python-mega-course/learn/v4/t/lecture/9520426?start=0)\n",
    "---"
   ]
  },
  {
   "cell_type": "markdown",
   "metadata": {},
   "source": [
    "There are two main types of number datatypes: *floats* and *integers*"
   ]
  },
  {
   "cell_type": "code",
   "execution_count": 36,
   "metadata": {
    "collapsed": true
   },
   "outputs": [],
   "source": [
    "#Integer examples\n",
    "a = 10\n",
    "b = 33\n",
    "c = -12"
   ]
  },
  {
   "cell_type": "code",
   "execution_count": 29,
   "metadata": {},
   "outputs": [
    {
     "data": {
      "text/plain": [
       "<class 'int'>"
      ]
     },
     "execution_count": 29,
     "metadata": {},
     "output_type": "execute_result"
    }
   ],
   "source": [
    "type(-12)"
   ]
  },
  {
   "cell_type": "code",
   "execution_count": 30,
   "metadata": {
    "collapsed": true
   },
   "outputs": [],
   "source": [
    "#Float examples\n",
    "d = 100.2\n",
    "e = 0.01\n",
    "f = -3.5"
   ]
  },
  {
   "cell_type": "code",
   "execution_count": 31,
   "metadata": {
    "scrolled": true
   },
   "outputs": [
    {
     "data": {
      "text/plain": [
       "<class 'float'>"
      ]
     },
     "execution_count": 31,
     "metadata": {},
     "output_type": "execute_result"
    }
   ],
   "source": [
    "type(f)"
   ]
  },
  {
   "cell_type": "code",
   "execution_count": 32,
   "metadata": {},
   "outputs": [
    {
     "data": {
      "text/plain": [
       "110.2"
      ]
     },
     "execution_count": 32,
     "metadata": {},
     "output_type": "execute_result"
    }
   ],
   "source": [
    "#You can make math operations with numbers\n",
    "100.2 + 10"
   ]
  },
  {
   "cell_type": "code",
   "execution_count": 33,
   "metadata": {},
   "outputs": [
    {
     "data": {
      "text/plain": [
       "10.01"
      ]
     },
     "execution_count": 33,
     "metadata": {},
     "output_type": "execute_result"
    }
   ],
   "source": [
    "a + e"
   ]
  },
  {
   "cell_type": "code",
   "execution_count": 34,
   "metadata": {},
   "outputs": [
    {
     "data": {
      "text/plain": [
       "'3344'"
      ]
     },
     "execution_count": 34,
     "metadata": {},
     "output_type": "execute_result"
    }
   ],
   "source": [
    "#Note that numbers enclosed in quotes are treated as strings\n",
    "\"33\" + \"44\""
   ]
  },
  {
   "cell_type": "markdown",
   "metadata": {},
   "source": [
    "**Lecture 10:** [Programming Tip](https://www.udemy.com/the-python-mega-course/learn/v4/t/lecture/9529022?start=0)\n",
    "---"
   ]
  },
  {
   "cell_type": "markdown",
   "metadata": {},
   "source": [
    "Tip: *Do not use Python keywords as variable names*"
   ]
  },
  {
   "cell_type": "code",
   "execution_count": 58,
   "metadata": {
    "collapsed": true
   },
   "outputs": [],
   "source": [
    "#Bad examples\n",
    "print = 10 \n",
    "int = 121 "
   ]
  },
  {
   "cell_type": "code",
   "execution_count": 50,
   "metadata": {
    "collapsed": true
   },
   "outputs": [],
   "source": [
    "#Good examples\n",
    "printing = 10 \n",
    "print_variable = 10 \n",
    "int_var = 121 "
   ]
  },
  {
   "cell_type": "code",
   "execution_count": 59,
   "metadata": {
    "collapsed": true
   },
   "outputs": [],
   "source": [
    "#Make sure to delete the print and int variables\n",
    "del print\n",
    "del int"
   ]
  },
  {
   "cell_type": "markdown",
   "metadata": {},
   "source": [
    "By deleting the variables we won't have any errors when using the reserved print() or int() keywords. "
   ]
  },
  {
   "cell_type": "markdown",
   "metadata": {},
   "source": [
    "**Lecture 11:** [Math Operators](https://www.udemy.com/the-python-mega-course/learn/v4/t/lecture/9522536?start=0)\n",
    "---"
   ]
  },
  {
   "cell_type": "code",
   "execution_count": 37,
   "metadata": {},
   "outputs": [
    {
     "data": {
      "text/plain": [
       "4.5"
      ]
     },
     "execution_count": 37,
     "metadata": {},
     "output_type": "execute_result"
    }
   ],
   "source": [
    "#Addition\n",
    "1 + 3.5"
   ]
  },
  {
   "cell_type": "code",
   "execution_count": 39,
   "metadata": {},
   "outputs": [
    {
     "data": {
      "text/plain": [
       "-2.5"
      ]
     },
     "execution_count": 39,
     "metadata": {},
     "output_type": "execute_result"
    }
   ],
   "source": [
    "#Subtraction:\n",
    "1 - 3.5"
   ]
  },
  {
   "cell_type": "code",
   "execution_count": 40,
   "metadata": {},
   "outputs": [
    {
     "data": {
      "text/plain": [
       "3.5"
      ]
     },
     "execution_count": 40,
     "metadata": {},
     "output_type": "execute_result"
    }
   ],
   "source": [
    "#Multiplication\n",
    "1 * 3.5"
   ]
  },
  {
   "cell_type": "code",
   "execution_count": 41,
   "metadata": {},
   "outputs": [
    {
     "data": {
      "text/plain": [
       "0.2857142857142857"
      ]
     },
     "execution_count": 41,
     "metadata": {},
     "output_type": "execute_result"
    }
   ],
   "source": [
    "#Division\n",
    "1 / 3.5"
   ]
  },
  {
   "cell_type": "code",
   "execution_count": 42,
   "metadata": {},
   "outputs": [
    {
     "data": {
      "text/plain": [
       "81"
      ]
     },
     "execution_count": 42,
     "metadata": {},
     "output_type": "execute_result"
    }
   ],
   "source": [
    "#Exponentiation\n",
    "3 ** 4"
   ]
  },
  {
   "cell_type": "code",
   "execution_count": 45,
   "metadata": {},
   "outputs": [
    {
     "data": {
      "text/plain": [
       "300"
      ]
     },
     "execution_count": 45,
     "metadata": {},
     "output_type": "execute_result"
    }
   ],
   "source": [
    "#Order of operators\n",
    "(1 + 2) * 10**2 "
   ]
  },
  {
   "cell_type": "markdown",
   "metadata": {},
   "source": [
    "You get 300 because first we get 3 from 1 + 2, and then we get 100 from 10\\*\\*2 and then 300 from 3 \\* 100. So, the order of operators is parenthesis first, then exponentiation, multiplication, division, addition, and then subtraction."
   ]
  },
  {
   "cell_type": "markdown",
   "metadata": {},
   "source": [
    "**Lecture 12:** [Built-in functions](https://www.udemy.com/the-python-mega-course/learn/v4/t/lecture/9520432?start=0)\n",
    "---"
   ]
  },
  {
   "cell_type": "markdown",
   "metadata": {},
   "source": [
    "There are two types of function in Python, *built-in* and *custom*. Built-in functions are functions that come installed with Python. Custome functions are functions created by you."
   ]
  },
  {
   "cell_type": "code",
   "execution_count": 53,
   "metadata": {},
   "outputs": [
    {
     "name": "stdout",
     "output_type": "stream",
     "text": [
      "I am a function I can print out text\n"
     ]
    }
   ],
   "source": [
    "#Examples of built-in functions\n",
    "print(\"I am a function I can print out text\")"
   ]
  },
  {
   "cell_type": "markdown",
   "metadata": {},
   "source": [
    "**Lecture 13:** [Lists](https://www.udemy.com/the-python-mega-course/learn/v4/t/lecture/9520444?start=0)\n",
    "---"
   ]
  },
  {
   "cell_type": "code",
   "execution_count": 72,
   "metadata": {
    "collapsed": true
   },
   "outputs": [],
   "source": [
    "#List examples:\n",
    "address = [\"Flat Floor Street\", \"18\", \"New York\"]\n",
    "numbers = [1, 2, 3, 4, 5]"
   ]
  },
  {
   "cell_type": "code",
   "execution_count": 73,
   "metadata": {},
   "outputs": [
    {
     "data": {
      "text/plain": [
       "'Flat Floor Street'"
      ]
     },
     "execution_count": 73,
     "metadata": {},
     "output_type": "execute_result"
    }
   ],
   "source": [
    "#Get the first item of the list\n",
    "address[0]"
   ]
  },
  {
   "cell_type": "code",
   "execution_count": 74,
   "metadata": {},
   "outputs": [
    {
     "data": {
      "text/plain": [
       "'18'"
      ]
     },
     "execution_count": 74,
     "metadata": {},
     "output_type": "execute_result"
    }
   ],
   "source": [
    "#Get the second item\n",
    "address[1]"
   ]
  },
  {
   "cell_type": "code",
   "execution_count": 75,
   "metadata": {},
   "outputs": [
    {
     "data": {
      "text/plain": [
       "'New York'"
      ]
     },
     "execution_count": 75,
     "metadata": {},
     "output_type": "execute_result"
    }
   ],
   "source": [
    "#Get the last item\n",
    "address[-1]"
   ]
  },
  {
   "cell_type": "code",
   "execution_count": 71,
   "metadata": {},
   "outputs": [
    {
     "data": {
      "text/plain": [
       "'18'"
      ]
     },
     "execution_count": 71,
     "metadata": {},
     "output_type": "execute_result"
    }
   ],
   "source": [
    "#Get the item before the last item\n",
    "address[-2]"
   ]
  },
  {
   "cell_type": "code",
   "execution_count": 76,
   "metadata": {},
   "outputs": [
    {
     "data": {
      "text/plain": [
       "3"
      ]
     },
     "execution_count": 76,
     "metadata": {},
     "output_type": "execute_result"
    }
   ],
   "source": [
    "#Get length of list\n",
    "len(address)"
   ]
  },
  {
   "cell_type": "code",
   "execution_count": 77,
   "metadata": {},
   "outputs": [
    {
     "data": {
      "text/plain": [
       "'e'"
      ]
     },
     "execution_count": 77,
     "metadata": {},
     "output_type": "execute_result"
    }
   ],
   "source": [
    "#Indexing works the same with strings\n",
    "\"Hello\"[1]"
   ]
  },
  {
   "cell_type": "markdown",
   "metadata": {},
   "source": [
    "**Lecture 14:** [List Indexing and Slicing](https://www.udemy.com/the-python-mega-course/learn/v4/t/lecture/9520450?start=0)\n",
    "---"
   ]
  },
  {
   "cell_type": "code",
   "execution_count": 130,
   "metadata": {},
   "outputs": [
    {
     "data": {
      "text/plain": [
       "['Flat Floor Street', '18']"
      ]
     },
     "execution_count": 130,
     "metadata": {},
     "output_type": "execute_result"
    }
   ],
   "source": [
    "#Slicing a list\n",
    "address = [\"Flat Floor Street\", \"18\", \"New York\"]\n",
    "address[0:2]"
   ]
  },
  {
   "cell_type": "markdown",
   "metadata": {},
   "source": [
    "The above returns a new list containing the first and the second item. In other words, the items with index 0 and 1. The last index is never included in the slice. So, item with index 2 is not in the generated list."
   ]
  },
  {
   "cell_type": "code",
   "execution_count": 79,
   "metadata": {},
   "outputs": [
    {
     "data": {
      "text/plain": [
       "['18']"
      ]
     },
     "execution_count": 79,
     "metadata": {},
     "output_type": "execute_result"
    }
   ],
   "source": [
    "#Another example\n",
    "address[1:2]"
   ]
  },
  {
   "cell_type": "code",
   "execution_count": 83,
   "metadata": {},
   "outputs": [
    {
     "data": {
      "text/plain": [
       "['18', 'New York']"
      ]
     },
     "execution_count": 83,
     "metadata": {},
     "output_type": "execute_result"
    }
   ],
   "source": [
    "#A special case\n",
    "address[1:]"
   ]
  },
  {
   "cell_type": "markdown",
   "metadata": {},
   "source": [
    "The above was a one side open slice. It returns the item with index 1 and all items after that."
   ]
  },
  {
   "cell_type": "code",
   "execution_count": 85,
   "metadata": {},
   "outputs": [
    {
     "data": {
      "text/plain": [
       "['Flat Floor Street', '18']"
      ]
     },
     "execution_count": 85,
     "metadata": {},
     "output_type": "execute_result"
    }
   ],
   "source": [
    "#The above is equivalent to [0:2]\n",
    "address[:2]"
   ]
  },
  {
   "cell_type": "code",
   "execution_count": 89,
   "metadata": {},
   "outputs": [
    {
     "data": {
      "text/plain": [
       "['18']"
      ]
     },
     "execution_count": 89,
     "metadata": {},
     "output_type": "execute_result"
    }
   ],
   "source": [
    "#Negative slicing\n",
    "address[-2:-1]"
   ]
  },
  {
   "cell_type": "markdown",
   "metadata": {},
   "source": [
    "The above gives item with index -2 which is item 18. Remember the last index of the slice is not included"
   ]
  },
  {
   "cell_type": "code",
   "execution_count": 91,
   "metadata": {},
   "outputs": [
    {
     "data": {
      "text/plain": [
       "['18', 'New York']"
      ]
     },
     "execution_count": 91,
     "metadata": {},
     "output_type": "execute_result"
    }
   ],
   "source": [
    "#Another negative slice\n",
    "address[-2:]"
   ]
  },
  {
   "cell_type": "markdown",
   "metadata": {},
   "source": [
    "The above returns item with index -2 and everything to the right"
   ]
  },
  {
   "cell_type": "markdown",
   "metadata": {},
   "source": [
    "**Lecture 15:** [List slice examples](https://www.udemy.com/the-python-mega-course/learn/v4/t/lecture/9522466?start=1)\n",
    "---"
   ]
  },
  {
   "cell_type": "markdown",
   "metadata": {},
   "source": [
    "Some more examples of list slicing:"
   ]
  },
  {
   "cell_type": "code",
   "execution_count": 94,
   "metadata": {
    "collapsed": true
   },
   "outputs": [],
   "source": [
    "days = [\"Mon\", \"Tue\", \"Wed\", \"Thu\", \"Fri\", \"Sat\", \"Sun\"]"
   ]
  },
  {
   "cell_type": "code",
   "execution_count": 105,
   "metadata": {
    "scrolled": true
   },
   "outputs": [
    {
     "data": {
      "text/plain": [
       "['Mon', 'Tue', 'Wed']"
      ]
     },
     "execution_count": 105,
     "metadata": {},
     "output_type": "execute_result"
    }
   ],
   "source": [
    "#First three items (from first to third):\n",
    "days[0:3]"
   ]
  },
  {
   "cell_type": "code",
   "execution_count": 106,
   "metadata": {},
   "outputs": [
    {
     "data": {
      "text/plain": [
       "['Mon', 'Tue', 'Wed', 'Thu']"
      ]
     },
     "execution_count": 106,
     "metadata": {},
     "output_type": "execute_result"
    }
   ],
   "source": [
    "#Access items from first to fourth:\n",
    "days[0:4] "
   ]
  },
  {
   "cell_type": "code",
   "execution_count": 98,
   "metadata": {},
   "outputs": [
    {
     "data": {
      "text/plain": [
       "['Mon', 'Tue', 'Wed', 'Thu']"
      ]
     },
     "execution_count": 98,
     "metadata": {},
     "output_type": "execute_result"
    }
   ],
   "source": [
    "#Exactly the same as above\n",
    "days[:4]"
   ]
  },
  {
   "cell_type": "code",
   "execution_count": 100,
   "metadata": {},
   "outputs": [
    {
     "data": {
      "text/plain": [
       "['Mon', 'Tue', 'Wed', 'Thu', 'Fri', 'Sat', 'Sun']"
      ]
     },
     "execution_count": 100,
     "metadata": {},
     "output_type": "execute_result"
    }
   ],
   "source": [
    "#No boundaries\n",
    "days[:] "
   ]
  },
  {
   "cell_type": "code",
   "execution_count": 101,
   "metadata": {},
   "outputs": [
    {
     "data": {
      "text/plain": [
       "['Mon', 'Tue', 'Wed', 'Thu', 'Fri', 'Sat']"
      ]
     },
     "execution_count": 101,
     "metadata": {},
     "output_type": "execute_result"
    }
   ],
   "source": [
    "#From first to second-to-last\n",
    "days[0:-1] "
   ]
  },
  {
   "cell_type": "code",
   "execution_count": 107,
   "metadata": {},
   "outputs": [
    {
     "data": {
      "text/plain": [
       "['Mon', 'Tue', 'Wed', 'Thu', 'Fri']"
      ]
     },
     "execution_count": 107,
     "metadata": {},
     "output_type": "execute_result"
    }
   ],
   "source": [
    "#From first to third-to-last\n",
    "days[:-2] "
   ]
  },
  {
   "cell_type": "code",
   "execution_count": 103,
   "metadata": {},
   "outputs": [
    {
     "data": {
      "text/plain": [
       "['Fri', 'Sat']"
      ]
     },
     "execution_count": 103,
     "metadata": {},
     "output_type": "execute_result"
    }
   ],
   "source": [
    "#From third-to-last to second-to-last\n",
    "days[-3:-1] "
   ]
  },
  {
   "cell_type": "code",
   "execution_count": 108,
   "metadata": {},
   "outputs": [
    {
     "data": {
      "text/plain": [
       "['Fri', 'Sat', 'Sun']"
      ]
     },
     "execution_count": 108,
     "metadata": {},
     "output_type": "execute_result"
    }
   ],
   "source": [
    "#From third-to-last to last\n",
    "days[-3:] "
   ]
  },
  {
   "cell_type": "markdown",
   "metadata": {},
   "source": [
    "**Lecture 16:** [List Methods](https://www.udemy.com/the-python-mega-course/learn/v4/t/lecture/9520466?start=0)\n",
    "---"
   ]
  },
  {
   "cell_type": "markdown",
   "metadata": {},
   "source": [
    "Lists can be modified in different ways using different list methods. To get a complete list of list methods use the dir function:"
   ]
  },
  {
   "cell_type": "code",
   "execution_count": 110,
   "metadata": {},
   "outputs": [
    {
     "data": {
      "text/plain": [
       "['__add__', '__class__', '__contains__', '__delattr__', '__delitem__', '__dir__', '__doc__', '__eq__', '__format__', '__ge__', '__getattribute__', '__getitem__', '__gt__', '__hash__', '__iadd__', '__imul__', '__init__', '__init_subclass__', '__iter__', '__le__', '__len__', '__lt__', '__mul__', '__ne__', '__new__', '__reduce__', '__reduce_ex__', '__repr__', '__reversed__', '__rmul__', '__setattr__', '__setitem__', '__sizeof__', '__str__', '__subclasshook__', 'append', 'clear', 'copy', 'count', 'extend', 'index', 'insert', 'pop', 'remove', 'reverse', 'sort']"
      ]
     },
     "execution_count": 110,
     "metadata": {},
     "output_type": "execute_result"
    }
   ],
   "source": [
    "dir(list)"
   ]
  },
  {
   "cell_type": "markdown",
   "metadata": {},
   "source": [
    "Let's try some of the methods:"
   ]
  },
  {
   "cell_type": "code",
   "execution_count": 131,
   "metadata": {
    "collapsed": true
   },
   "outputs": [],
   "source": [
    "#Append a new item to a list\n",
    "address.append(\"USA\")"
   ]
  },
  {
   "cell_type": "code",
   "execution_count": 132,
   "metadata": {},
   "outputs": [
    {
     "data": {
      "text/plain": [
       "['Flat Floor Street', '18', 'New York', 'USA']"
      ]
     },
     "execution_count": 132,
     "metadata": {},
     "output_type": "execute_result"
    }
   ],
   "source": [
    "#Print out the list to check\n",
    "address"
   ]
  },
  {
   "cell_type": "code",
   "execution_count": 133,
   "metadata": {},
   "outputs": [
    {
     "data": {
      "text/plain": [
       "['Flat Floor Street', '18', 'New York']"
      ]
     },
     "execution_count": 133,
     "metadata": {},
     "output_type": "execute_result"
    }
   ],
   "source": [
    "#Remove item from list\n",
    "address.remove(\"USA\")\n",
    "address"
   ]
  },
  {
   "cell_type": "code",
   "execution_count": 134,
   "metadata": {},
   "outputs": [
    {
     "data": {
      "text/plain": [
       "['Flat Floor Street', 'New York']"
      ]
     },
     "execution_count": 134,
     "metadata": {},
     "output_type": "execute_result"
    }
   ],
   "source": [
    "#Remove item with index 1\n",
    "address.pop(1)\n",
    "address"
   ]
  },
  {
   "cell_type": "code",
   "execution_count": 135,
   "metadata": {},
   "outputs": [
    {
     "data": {
      "text/plain": [
       "['Flat Floor Street', 'New York']"
      ]
     },
     "execution_count": 135,
     "metadata": {},
     "output_type": "execute_result"
    }
   ],
   "source": [
    "#Sort list alphabetical order\n",
    "address.sort()\n",
    "address"
   ]
  },
  {
   "cell_type": "code",
   "execution_count": 136,
   "metadata": {},
   "outputs": [
    {
     "data": {
      "text/plain": [
       "['New York', 'Flat Floor Street']"
      ]
     },
     "execution_count": 136,
     "metadata": {},
     "output_type": "execute_result"
    }
   ],
   "source": [
    "#Sort list in reverse alphabetical order\n",
    "address.sort(reverse=True)\n",
    "address"
   ]
  },
  {
   "cell_type": "markdown",
   "metadata": {},
   "source": [
    "**Lecture 17:** [Tuples](https://www.udemy.com/the-python-mega-course/learn/v4/t/lecture/9589982?start=0)\n",
    "---"
   ]
  },
  {
   "cell_type": "markdown",
   "metadata": {},
   "source": [
    "Tuples are just like list except of (1) They are written inside round brackets and (2) they are immutable"
   ]
  },
  {
   "cell_type": "code",
   "execution_count": null,
   "metadata": {
    "collapsed": true
   },
   "outputs": [],
   "source": [
    "#Tuple example\n",
    "mytuple = (1, 2, \"Three\") "
   ]
  },
  {
   "cell_type": "code",
   "execution_count": 137,
   "metadata": {},
   "outputs": [
    {
     "ename": "NameError",
     "evalue": "name 'mytuple' is not defined",
     "output_type": "error",
     "traceback": [
      "\u001b[0;31m---------------------------------------------------------------------------\u001b[0m",
      "\u001b[0;31mNameError\u001b[0m                                 Traceback (most recent call last)",
      "\u001b[0;32m<ipython-input-137-6dc9a57e2fba>\u001b[0m in \u001b[0;36m<module>\u001b[0;34m()\u001b[0m\n\u001b[1;32m      1\u001b[0m \u001b[0;31m#Appending something to a tuple will return an error\u001b[0m\u001b[0;34m\u001b[0m\u001b[0;34m\u001b[0m\u001b[0m\n\u001b[0;32m----> 2\u001b[0;31m \u001b[0mmytuple\u001b[0m\u001b[0;34m.\u001b[0m\u001b[0mappend\u001b[0m\u001b[0;34m(\u001b[0m\u001b[0;34m\"Four\"\u001b[0m\u001b[0;34m)\u001b[0m\u001b[0;34m\u001b[0m\u001b[0m\n\u001b[0m",
      "\u001b[0;31mNameError\u001b[0m: name 'mytuple' is not defined"
     ]
    }
   ],
   "source": [
    "#Appending something to a tuple will return an error\n",
    "mytuple.append(\"Four\")"
   ]
  },
  {
   "cell_type": "markdown",
   "metadata": {},
   "source": [
    "Tuples are rarely used but if you ever want to have a sequence that you really don't want to be changed, then tuples might be a good idea to use."
   ]
  },
  {
   "cell_type": "markdown",
   "metadata": {},
   "source": [
    "**Lecture 18:** [Dictionaries](https://www.udemy.com/the-python-mega-course/learn/v4/t/lecture/9520468?start=0)\n",
    "---"
   ]
  },
  {
   "cell_type": "markdown",
   "metadata": {},
   "source": [
    "Dictionaries are another datatype that are useful whenever you are working with pairs of values. For example you would use a dictionary to store a phonebook that consists of pairs of names and phone numbers."
   ]
  },
  {
   "cell_type": "code",
   "execution_count": 138,
   "metadata": {
    "collapsed": true
   },
   "outputs": [],
   "source": [
    "#Example of a dictionary with names and pin codes\n",
    "pins = {\"Mike\":1234 , \"Joe\":1111, \"Jack\":2222}"
   ]
  },
  {
   "cell_type": "code",
   "execution_count": 141,
   "metadata": {},
   "outputs": [
    {
     "data": {
      "text/plain": [
       "1234"
      ]
     },
     "execution_count": 141,
     "metadata": {},
     "output_type": "execute_result"
    }
   ],
   "source": [
    "#Key names can be used to access a value\n",
    "pins[\"Mike\"]"
   ]
  },
  {
   "cell_type": "code",
   "execution_count": 142,
   "metadata": {},
   "outputs": [
    {
     "data": {
      "text/plain": [
       "dict_keys(['Mike', 'Joe', 'Jack'])"
      ]
     },
     "execution_count": 142,
     "metadata": {},
     "output_type": "execute_result"
    }
   ],
   "source": [
    "#Accessing all dictionary keys\n",
    "pins.keys()"
   ]
  },
  {
   "cell_type": "code",
   "execution_count": 143,
   "metadata": {},
   "outputs": [
    {
     "data": {
      "text/plain": [
       "dict_values([1234, 1111, 2222])"
      ]
     },
     "execution_count": 143,
     "metadata": {},
     "output_type": "execute_result"
    }
   ],
   "source": [
    "#Accessing all dictionary values\n",
    "pins.values()"
   ]
  },
  {
   "cell_type": "markdown",
   "metadata": {},
   "source": [
    "**Lecture 19:** [More Operations with Dictionaries](https://www.udemy.com/the-python-mega-course/learn/v4/t/lecture/9533754?start=0)\n",
    "---"
   ]
  },
  {
   "cell_type": "code",
   "execution_count": 145,
   "metadata": {
    "collapsed": true
   },
   "outputs": [],
   "source": [
    "person97 = {\"name\":\"Jack\", \"surname\":\"Smith\", \"age\":\"29\"} "
   ]
  },
  {
   "cell_type": "code",
   "execution_count": 146,
   "metadata": {},
   "outputs": [
    {
     "data": {
      "text/plain": [
       "'Jack'"
      ]
     },
     "execution_count": 146,
     "metadata": {},
     "output_type": "execute_result"
    }
   ],
   "source": [
    "#Removing the pair \"name\":\"Jack\"\n",
    "person97.pop(\"name\") "
   ]
  },
  {
   "cell_type": "code",
   "execution_count": 147,
   "metadata": {},
   "outputs": [
    {
     "data": {
      "text/plain": [
       "{'surname': 'Smith', 'age': '29'}"
      ]
     },
     "execution_count": 147,
     "metadata": {},
     "output_type": "execute_result"
    }
   ],
   "source": [
    "person97"
   ]
  },
  {
   "cell_type": "code",
   "execution_count": 148,
   "metadata": {},
   "outputs": [
    {
     "data": {
      "text/plain": [
       "{'surname': 'Smith', 'age': '29', 'name': 'Jack'}"
      ]
     },
     "execution_count": 148,
     "metadata": {},
     "output_type": "execute_result"
    }
   ],
   "source": [
    "#Adding new pair \"name\":\"Jack\"\n",
    "person97[\"name\"] = \"Jack\"\n",
    "person97"
   ]
  },
  {
   "cell_type": "code",
   "execution_count": 149,
   "metadata": {},
   "outputs": [
    {
     "data": {
      "text/plain": [
       "{'surname': 'Smith', 'age': 30, 'name': 'Jack'}"
      ]
     },
     "execution_count": 149,
     "metadata": {},
     "output_type": "execute_result"
    }
   ],
   "source": [
    "#Changing an existing value\n",
    "person97[\"age\"] = 30\n",
    "person97"
   ]
  },
  {
   "cell_type": "code",
   "execution_count": 150,
   "metadata": {},
   "outputs": [
    {
     "data": {
      "text/plain": [
       "{'a': 1, 'b': 2, 'c': 3}"
      ]
     },
     "execution_count": 150,
     "metadata": {},
     "output_type": "execute_result"
    }
   ],
   "source": [
    "#Mapping two lists to a dictionary:\n",
    "keys = [\"a\", \"b\", \"c\"]\n",
    "values = [1, 2, 3]\n",
    "mydict = dict(zip(keys, values))\n",
    "mydict"
   ]
  },
  {
   "cell_type": "markdown",
   "metadata": {},
   "source": [
    "**Lecture 20:** [Getting User Input](https://www.udemy.com/the-python-mega-course/learn/v4/t/lecture/9520472?start=0)\n",
    "---"
   ]
  },
  {
   "cell_type": "markdown",
   "metadata": {},
   "source": [
    "You can get input values from the user via the input() function and then process the value"
   ]
  },
  {
   "cell_type": "code",
   "execution_count": 152,
   "metadata": {},
   "outputs": [
    {
     "name": "stdout",
     "output_type": "stream",
     "text": [
      "Enter a number: 10\n",
      "10\n"
     ]
    }
   ],
   "source": [
    "#Get user input, store it in a variable, and print it\n",
    "user_input = input(\"Enter a number: \")\n",
    "print(user_input)"
   ]
  },
  {
   "cell_type": "markdown",
   "metadata": {},
   "source": [
    "Note that everything the user enters is converted to a string. So, if the user enters 10 that is treated as \"10\" by Python which means if you try to do a math operation with that value you would get an error:"
   ]
  },
  {
   "cell_type": "code",
   "execution_count": 2,
   "metadata": {},
   "outputs": [
    {
     "name": "stdout",
     "output_type": "stream",
     "text": [
      "Enter a number: 10\n"
     ]
    },
    {
     "ename": "TypeError",
     "evalue": "unsupported operand type(s) for ** or pow(): 'str' and 'int'",
     "output_type": "error",
     "traceback": [
      "\u001b[0;31m---------------------------------------------------------------------------\u001b[0m",
      "\u001b[0;31mTypeError\u001b[0m                                 Traceback (most recent call last)",
      "\u001b[0;32m<ipython-input-2-6c8478503269>\u001b[0m in \u001b[0;36m<module>\u001b[0;34m()\u001b[0m\n\u001b[1;32m      1\u001b[0m \u001b[0muser_input\u001b[0m \u001b[0;34m=\u001b[0m \u001b[0minput\u001b[0m\u001b[0;34m(\u001b[0m\u001b[0;34m\"Enter a number: \"\u001b[0m\u001b[0;34m)\u001b[0m\u001b[0;34m\u001b[0m\u001b[0m\n\u001b[0;32m----> 2\u001b[0;31m \u001b[0muser_input\u001b[0m \u001b[0;34m**\u001b[0m \u001b[0;36m2\u001b[0m\u001b[0;34m\u001b[0m\u001b[0m\n\u001b[0m",
      "\u001b[0;31mTypeError\u001b[0m: unsupported operand type(s) for ** or pow(): 'str' and 'int'"
     ]
    }
   ],
   "source": [
    "user_input = input(\"Enter a number: \")\n",
    "user_input ** 2"
   ]
  },
  {
   "cell_type": "code",
   "execution_count": 3,
   "metadata": {},
   "outputs": [
    {
     "name": "stdout",
     "output_type": "stream",
     "text": [
      "Enter a number: 10\n"
     ]
    },
    {
     "data": {
      "text/plain": [
       "100"
      ]
     },
     "execution_count": 3,
     "metadata": {},
     "output_type": "execute_result"
    }
   ],
   "source": [
    "#Convert input to integer or float to avoid the error\n",
    "user_input = int(input(\"Enter a number: \"))\n",
    "user_input ** 2"
   ]
  },
  {
   "cell_type": "code",
   "execution_count": null,
   "metadata": {
    "collapsed": true
   },
   "outputs": [],
   "source": [
    "#Get user input as integer\n",
    "user_input = input(\"Enter a number: \")\n",
    "print(user_input)"
   ]
  },
  {
   "cell_type": "markdown",
   "metadata": {},
   "source": [
    "**Lecture 21:** [Conditionals](https://www.udemy.com/the-python-mega-course/learn/v4/t/lecture/9520476?start=0)\n",
    "---"
   ]
  },
  {
   "cell_type": "markdown",
   "metadata": {},
   "source": [
    "Conditionals are used to allow your program to make decisions."
   ]
  },
  {
   "cell_type": "code",
   "execution_count": 5,
   "metadata": {},
   "outputs": [
    {
     "name": "stdout",
     "output_type": "stream",
     "text": [
      "Yes\n"
     ]
    }
   ],
   "source": [
    "#Example of a conditional\n",
    "if 1 == 1:\n",
    "    print(\"Yes\")\n",
    "else:\n",
    "    print(\"No\")"
   ]
  },
  {
   "cell_type": "code",
   "execution_count": 8,
   "metadata": {},
   "outputs": [
    {
     "name": "stdout",
     "output_type": "stream",
     "text": [
      "Enter your pin: 2222\n",
      "Correct pin code\n"
     ]
    }
   ],
   "source": [
    "#Another example:\n",
    "pins = {\"Mike\":1234 , \"Joe\":1111, \"Jack\":2222}\n",
    "pin = int(input(\"Enter your pin: \"))\n",
    "if pin in pins.values():\n",
    "    print(\"Correct pin code\")\n",
    "else:\n",
    "    print(\"Wrong pin code\")"
   ]
  },
  {
   "cell_type": "markdown",
   "metadata": {},
   "source": [
    "As can be seen in the code above, a conditional is a block of code that consists of an *if* statement which contains the condition that is to be checked. If the condition is true the operation below *if* will occur. The operation should always be indented with at least one space. If the condition is not true, then the operation under *else* will occur. That operation is also indented."
   ]
  },
  {
   "cell_type": "markdown",
   "metadata": {},
   "source": [
    "**Lecture 22:** [Conditionals with Multiple Conditions](https://www.udemy.com/the-python-mega-course/learn/v4/t/lecture/9520482?start=0)\n",
    "---"
   ]
  },
  {
   "cell_type": "markdown",
   "metadata": {},
   "source": [
    "If and else checks for only one condition but sometimes you should check for more than one condition. That can be done with if - elif - else:"
   ]
  },
  {
   "cell_type": "code",
   "execution_count": 9,
   "metadata": {},
   "outputs": [
    {
     "name": "stdout",
     "output_type": "stream",
     "text": [
      "Enter number: 103\n",
      "Greater\n"
     ]
    }
   ],
   "source": [
    "user_input = float(input(\"Enter number: \"))\n",
    "if user_input > 100:\n",
    "    print(\"Greater\")\n",
    "elif user_input == 100:\n",
    "    print(\"Equal\")\n",
    "else:\n",
    "    print(\"Smaller\")"
   ]
  },
  {
   "cell_type": "markdown",
   "metadata": {},
   "source": [
    "**Lecture 23:** [Custom Functions](https://www.udemy.com/the-python-mega-course/learn/v4/t/lecture/9520484?start=0)\n",
    "---"
   ]
  },
  {
   "cell_type": "markdown",
   "metadata": {},
   "source": [
    "Built-in functions such as print(), len() etc. have been built by the developers of Python. You can also build your own functions that suit your needs."
   ]
  },
  {
   "cell_type": "code",
   "execution_count": 10,
   "metadata": {
    "collapsed": true
   },
   "outputs": [],
   "source": [
    "#Example of a custom function\n",
    "def greet_me(greeting):\n",
    "    return greeting"
   ]
  },
  {
   "cell_type": "markdown",
   "metadata": {},
   "source": [
    "Executing the above code returns no output because that's just the function definition. To get an output you should call the function:"
   ]
  },
  {
   "cell_type": "code",
   "execution_count": 13,
   "metadata": {},
   "outputs": [
    {
     "name": "stdout",
     "output_type": "stream",
     "text": [
      "Hello\n"
     ]
    }
   ],
   "source": [
    "#Calling the function\n",
    "print(greet_me(\"Hello\"))"
   ]
  },
  {
   "cell_type": "code",
   "execution_count": 15,
   "metadata": {
    "collapsed": true
   },
   "outputs": [],
   "source": [
    "#Function that calculates your age given your year of birth\n",
    "def calculate_age(year):\n",
    "    age = 2018 - year\n",
    "    return age"
   ]
  },
  {
   "cell_type": "code",
   "execution_count": 16,
   "metadata": {},
   "outputs": [
    {
     "data": {
      "text/plain": [
       "18"
      ]
     },
     "execution_count": 16,
     "metadata": {},
     "output_type": "execute_result"
    }
   ],
   "source": [
    "print(calculate_age(2000))"
   ]
  },
  {
   "cell_type": "code",
   "execution_count": 17,
   "metadata": {
    "collapsed": true
   },
   "outputs": [],
   "source": [
    "#Functions can also be without any input value\n",
    "def printing():\n",
    "    return \"Hello\""
   ]
  },
  {
   "cell_type": "code",
   "execution_count": 18,
   "metadata": {},
   "outputs": [
    {
     "name": "stdout",
     "output_type": "stream",
     "text": [
      "Hello\n"
     ]
    }
   ],
   "source": [
    "print(printing())"
   ]
  },
  {
   "cell_type": "markdown",
   "metadata": {},
   "source": [
    "**Lecture 25:** [Custom Functions: return vs. print](https://www.udemy.com/the-python-mega-course/learn/v4/t/lecture/9520492?start=0)\n",
    "---"
   ]
  },
  {
   "cell_type": "code",
   "execution_count": 31,
   "metadata": {
    "collapsed": true
   },
   "outputs": [],
   "source": [
    "#Function that uses a return statement\n",
    "def return_function():\n",
    "    return 10"
   ]
  },
  {
   "cell_type": "code",
   "execution_count": 32,
   "metadata": {
    "scrolled": true
   },
   "outputs": [
    {
     "data": {
      "text/plain": [
       "10"
      ]
     },
     "execution_count": 32,
     "metadata": {},
     "output_type": "execute_result"
    }
   ],
   "source": [
    "return_function()"
   ]
  },
  {
   "cell_type": "code",
   "execution_count": 35,
   "metadata": {},
   "outputs": [
    {
     "data": {
      "text/plain": [
       "20"
      ]
     },
     "execution_count": 35,
     "metadata": {},
     "output_type": "execute_result"
    }
   ],
   "source": [
    "return_function() * 2"
   ]
  },
  {
   "cell_type": "code",
   "execution_count": 33,
   "metadata": {
    "collapsed": true
   },
   "outputs": [],
   "source": [
    "#Function that uses a print() function\n",
    "def print_function():\n",
    "    print(10)"
   ]
  },
  {
   "cell_type": "code",
   "execution_count": 34,
   "metadata": {},
   "outputs": [
    {
     "name": "stdout",
     "output_type": "stream",
     "text": [
      "10\n"
     ]
    }
   ],
   "source": [
    "print_function()"
   ]
  },
  {
   "cell_type": "code",
   "execution_count": 37,
   "metadata": {
    "scrolled": true
   },
   "outputs": [
    {
     "name": "stdout",
     "output_type": "stream",
     "text": [
      "10\n"
     ]
    },
    {
     "ename": "TypeError",
     "evalue": "unsupported operand type(s) for *: 'NoneType' and 'int'",
     "output_type": "error",
     "traceback": [
      "\u001b[0;31m---------------------------------------------------------------------------\u001b[0m",
      "\u001b[0;31mTypeError\u001b[0m                                 Traceback (most recent call last)",
      "\u001b[0;32m<ipython-input-37-04680419686e>\u001b[0m in \u001b[0;36m<module>\u001b[0;34m()\u001b[0m\n\u001b[1;32m      1\u001b[0m \u001b[0;31m#This will throw an error\u001b[0m\u001b[0;34m\u001b[0m\u001b[0;34m\u001b[0m\u001b[0m\n\u001b[0;32m----> 2\u001b[0;31m \u001b[0mprint_function\u001b[0m\u001b[0;34m(\u001b[0m\u001b[0;34m)\u001b[0m \u001b[0;34m*\u001b[0m \u001b[0;36m2\u001b[0m\u001b[0;34m\u001b[0m\u001b[0m\n\u001b[0m",
      "\u001b[0;31mTypeError\u001b[0m: unsupported operand type(s) for *: 'NoneType' and 'int'"
     ]
    }
   ],
   "source": [
    "#This will throw an error\n",
    "print_function() * 2"
   ]
  },
  {
   "cell_type": "markdown",
   "metadata": {},
   "source": [
    "If all you want your function to do is printing out output you can use print instead of return. If you also want to do other operations with your function output then you should use return. However, it is recommended to always use return unless you have a specific reason to do otherwise."
   ]
  },
  {
   "cell_type": "markdown",
   "metadata": {
    "collapsed": true
   },
   "source": [
    "**Lecture 26:** [Custom Functions with Conditionals](https://www.udemy.com/the-python-mega-course/learn/v4/t/lecture/9520498?start=0)\n",
    "---"
   ]
  },
  {
   "cell_type": "markdown",
   "metadata": {},
   "source": [
    "Inside a function you can write everything. Here is an example of having a conditional block inside a function:"
   ]
  },
  {
   "cell_type": "code",
   "execution_count": 4,
   "metadata": {},
   "outputs": [
    {
     "name": "stdout",
     "output_type": "stream",
     "text": [
      "Enter your pin: 1234\n"
     ]
    },
    {
     "data": {
      "text/plain": [
       "'Correct pin code'"
      ]
     },
     "execution_count": 4,
     "metadata": {},
     "output_type": "execute_result"
    }
   ],
   "source": [
    "address = [\"Flat Floor Street\", \"18\", \"New York\"]\n",
    "pins = {\"Mike\":1234, \"Joe\":1111, \"Jack\":2222}\n",
    "\n",
    "pin = int(input(\"Enter your pin: \"))\n",
    "\n",
    "def check_pin(the_pin):    \n",
    "    if the_pin in pins.values():\n",
    "        return \"Correct pin code\"\n",
    "    else:\n",
    "        return \"Wrong pin code\"\n",
    "check_pin(pin)"
   ]
  },
  {
   "cell_type": "markdown",
   "metadata": {
    "collapsed": true
   },
   "source": [
    "**Lecture 27:** [Exercise](https://www.udemy.com/the-python-mega-course/learn/v4/t/lecture/5173664?start=0)\n",
    "---"
   ]
  },
  {
   "cell_type": "markdown",
   "metadata": {},
   "source": [
    "Create a function that takes any string as argument and returns the length of that string."
   ]
  },
  {
   "cell_type": "markdown",
   "metadata": {
    "collapsed": true
   },
   "source": [
    "**Lecture 28:** [Exercise Solution](https://www.udemy.com/the-python-mega-course/learn/v4/t/lecture/5173668?start=0)\n",
    "---"
   ]
  },
  {
   "cell_type": "code",
   "execution_count": null,
   "metadata": {
    "collapsed": true
   },
   "outputs": [],
   "source": [
    "#Solution:\n",
    "def string_length(mystring):\n",
    "    return len(mystring)"
   ]
  },
  {
   "cell_type": "code",
   "execution_count": 10,
   "metadata": {},
   "outputs": [
    {
     "name": "stdout",
     "output_type": "stream",
     "text": [
      "5\n"
     ]
    }
   ],
   "source": [
    "#You can then call it using any string as input\n",
    "print(string_length(\"Hello\")) "
   ]
  },
  {
   "cell_type": "markdown",
   "metadata": {
    "collapsed": true
   },
   "source": [
    "**Lecture 29:** [Custom Functions with Multiple Parameters](https://www.udemy.com/the-python-mega-course/learn/v4/t/lecture/9520500?start=0)\n",
    "---"
   ]
  },
  {
   "cell_type": "markdown",
   "metadata": {},
   "source": [
    "Functions can also have more than one parameter:"
   ]
  },
  {
   "cell_type": "code",
   "execution_count": 13,
   "metadata": {
    "collapsed": true
   },
   "outputs": [],
   "source": [
    "#Function that returns the multiplication of its two parameters\n",
    "def converter(original_unit, coefficient):\n",
    "    return original_unit * coefficient"
   ]
  },
  {
   "cell_type": "code",
   "execution_count": 12,
   "metadata": {},
   "outputs": [
    {
     "name": "stdout",
     "output_type": "stream",
     "text": [
      "3.048\n"
     ]
    }
   ],
   "source": [
    "print(converter(10, 0.3048))"
   ]
  },
  {
   "cell_type": "markdown",
   "metadata": {
    "collapsed": true
   },
   "source": [
    "**Lecture 30:** [Custom Functions with Default Parameters](https://www.udemy.com/the-python-mega-course/learn/v4/t/lecture/9520502?start=0)\n",
    "---"
   ]
  },
  {
   "cell_type": "markdown",
   "metadata": {},
   "source": [
    "If you think that one of the parameters will be given the same value almost always when the function is called then it's smart to put a default value to that parameter:"
   ]
  },
  {
   "cell_type": "code",
   "execution_count": 15,
   "metadata": {
    "collapsed": true
   },
   "outputs": [],
   "source": [
    "#Function that returns the multiplication of its two parameters\n",
    "def converter(original_unit, coefficient=0.3048):\n",
    "    return original_unit * coefficient"
   ]
  },
  {
   "cell_type": "markdown",
   "metadata": {},
   "source": [
    "When calling the function you only need to pass one argument value:"
   ]
  },
  {
   "cell_type": "code",
   "execution_count": 17,
   "metadata": {},
   "outputs": [
    {
     "name": "stdout",
     "output_type": "stream",
     "text": [
      "3.048\n"
     ]
    }
   ],
   "source": [
    "print(converter(10))"
   ]
  },
  {
   "cell_type": "markdown",
   "metadata": {},
   "source": [
    "If you want to change the value of the default argument you can do so:"
   ]
  },
  {
   "cell_type": "code",
   "execution_count": 22,
   "metadata": {},
   "outputs": [
    {
     "name": "stdout",
     "output_type": "stream",
     "text": [
      "6.2\n"
     ]
    }
   ],
   "source": [
    "print(converter(10, 0.62))"
   ]
  },
  {
   "cell_type": "markdown",
   "metadata": {
    "collapsed": true
   },
   "source": [
    "**Lecture 31:** [Exercise](https://www.udemy.com/the-python-mega-course/learn/v4/t/lecture/5171860?start=0)\n",
    "---"
   ]
  },
  {
   "cell_type": "markdown",
   "metadata": {},
   "source": [
    "Create a function that converts Celsius degrees to Fahrenheit. The formula to convert Celsius to Fahrenheit is *F = C × 9/5 + 32*."
   ]
  },
  {
   "cell_type": "markdown",
   "metadata": {
    "collapsed": true
   },
   "source": [
    "**Lecture 32:** [Solution](https://www.udemy.com/the-python-mega-course/learn/v4/t/lecture/5171878?start=0)\n",
    "---"
   ]
  },
  {
   "cell_type": "code",
   "execution_count": 23,
   "metadata": {
    "collapsed": true
   },
   "outputs": [],
   "source": [
    "def cel_to_fahr(c):\n",
    "    f = c * 9/5 + 32\n",
    "    return f"
   ]
  },
  {
   "cell_type": "code",
   "execution_count": 24,
   "metadata": {},
   "outputs": [
    {
     "name": "stdout",
     "output_type": "stream",
     "text": [
      "50.0\n"
     ]
    }
   ],
   "source": [
    "print(cel_to_fahr(10)) "
   ]
  },
  {
   "cell_type": "markdown",
   "metadata": {
    "collapsed": true
   },
   "source": [
    "**Lecture 33:** [Exercise](https://www.udemy.com/the-python-mega-course/learn/v4/t/lecture/8234076?start=0)\n",
    "---"
   ]
  },
  {
   "cell_type": "markdown",
   "metadata": {},
   "source": [
    "In one of the previous exercises we created the following function:"
   ]
  },
  {
   "cell_type": "code",
   "execution_count": 27,
   "metadata": {
    "collapsed": true
   },
   "outputs": [],
   "source": [
    "def string_length(mystring):\n",
    "    return len(mystring)"
   ]
  },
  {
   "cell_type": "markdown",
   "metadata": {},
   "source": [
    "Calling the function with a string as the value for the argument **mystring** will return the length of that string. However, if an integer is passed as an argument value such as **string_length(10)** that would generate an error since the **len()** function doesn't work for integers.\n",
    "Your duty is to modify the function so that if an integer is passed as an input, the function should output a message like **\"Sorry integers don't have length\"**."
   ]
  },
  {
   "cell_type": "markdown",
   "metadata": {
    "collapsed": true
   },
   "source": [
    "**Lecture 34:** [Solution](https://www.udemy.com/the-python-mega-course/learn/v4/t/lecture/8234110?start=0)\n",
    "---"
   ]
  },
  {
   "cell_type": "code",
   "execution_count": 31,
   "metadata": {
    "collapsed": true
   },
   "outputs": [],
   "source": [
    "def string_length(mystring):\n",
    "    if type(mystring) == int:\n",
    "         return \"Sorry, integers don't have length\"\n",
    "    else:\n",
    "         return len(mystring)"
   ]
  },
  {
   "cell_type": "markdown",
   "metadata": {
    "collapsed": true
   },
   "source": [
    "**Lecture 35:** [Exercise](https://www.udemy.com/the-python-mega-course/learn/v4/t/lecture/8234126?start=0)\n",
    "---"
   ]
  },
  {
   "cell_type": "markdown",
   "metadata": {},
   "source": [
    "The function that we implemented in the previous exercise checks integer datatypes, but not about floats. So, please expand the conditional block so that floats are counted too."
   ]
  },
  {
   "cell_type": "markdown",
   "metadata": {
    "collapsed": true
   },
   "source": [
    "**Lecture 36:** [Solution](https://www.udemy.com/the-python-mega-course/learn/v4/t/lecture/8234134?start=0)\n",
    "---"
   ]
  },
  {
   "cell_type": "code",
   "execution_count": 32,
   "metadata": {
    "collapsed": true
   },
   "outputs": [],
   "source": [
    "def string_length(mystring):\n",
    "     if type(mystring) == int:\n",
    "         return \"Sorry, integers don't have length\"\n",
    "     elif type(mystring) == float:\n",
    "         return \"Sorry, floats don't have length\"\n",
    "     else:\n",
    "         return len(mystring)"
   ]
  },
  {
   "cell_type": "markdown",
   "metadata": {
    "collapsed": true
   },
   "source": [
    "**Lecture 37:** [Exercise](https://www.udemy.com/the-python-mega-course/learn/v4/t/lecture/5173666?start=0)\n",
    "---"
   ]
  },
  {
   "cell_type": "markdown",
   "metadata": {},
   "source": [
    "In one of the previous exercises you created a function that converted Celsius degrees to Fahrenheit:"
   ]
  },
  {
   "cell_type": "code",
   "execution_count": 33,
   "metadata": {
    "collapsed": true
   },
   "outputs": [],
   "source": [
    "def cel_to_fahr(c):\n",
    "    f = c * 9/5 + 32\n",
    "    return f"
   ]
  },
  {
   "cell_type": "markdown",
   "metadata": {},
   "source": [
    "That function is programmatically fine but not completely correct from the physics perspective. The lowest possible temperature that physical matter can reach is -273.15 °C. With that in mind, please improve the function by making it print out a message in case a number lower than -273.15 is passed as input when calling the function."
   ]
  },
  {
   "cell_type": "markdown",
   "metadata": {
    "collapsed": true
   },
   "source": [
    "**Lecture 38:** [Solution](https://www.udemy.com/the-python-mega-course/learn/v4/t/lecture/5173670?start=0)\n",
    "---"
   ]
  },
  {
   "cell_type": "code",
   "execution_count": 35,
   "metadata": {},
   "outputs": [
    {
     "name": "stdout",
     "output_type": "stream",
     "text": [
      "That temperature doesn't make sense!\n"
     ]
    }
   ],
   "source": [
    "def c_to_f(c):    \n",
    "    if c < -273.15:        \n",
    "        return \"That temperature doesn't make sense!\"    \n",
    "    else:        \n",
    "        f = c * 9/5 + 32        \n",
    "        return f\n",
    "print(c_to_f(-273.4))"
   ]
  },
  {
   "cell_type": "markdown",
   "metadata": {
    "collapsed": true
   },
   "source": [
    "**Lecture 39:** [Opening External Text Files in Python](https://www.udemy.com/the-python-mega-course/learn/v4/t/lecture/9520508?start=0)\n",
    "---"
   ]
  },
  {
   "cell_type": "markdown",
   "metadata": {},
   "source": [
    "You can use Python to create text files, and read, insert, delete,modify text in them."
   ]
  },
  {
   "cell_type": "code",
   "execution_count": 38,
   "metadata": {
    "collapsed": true
   },
   "outputs": [],
   "source": [
    "#Create a new text file\n",
    "myfile = open(\"sample.txt\", 'w')\n",
    "myfile.close()"
   ]
  },
  {
   "cell_type": "markdown",
   "metadata": {},
   "source": [
    "Executing the above code should create a *sample.txt* file in your current directory (the directory where you have saved this Jupyter notebook file)."
   ]
  },
  {
   "cell_type": "code",
   "execution_count": 39,
   "metadata": {
    "collapsed": true
   },
   "outputs": [],
   "source": [
    "#Write text in the text file\n",
    "myfile = open(\"sample.txt\", 'w')\n",
    "myfile.write(\"Hello\")\n",
    "myfile.close()"
   ]
  },
  {
   "cell_type": "code",
   "execution_count": 41,
   "metadata": {},
   "outputs": [
    {
     "name": "stdout",
     "output_type": "stream",
     "text": [
      "Hello\n"
     ]
    }
   ],
   "source": [
    "#Read text from an existing text file\n",
    "myfile = open(\"sample.txt\", 'r')\n",
    "text = myfile.read()\n",
    "myfile.close()\n",
    "print(text)"
   ]
  },
  {
   "cell_type": "code",
   "execution_count": 42,
   "metadata": {
    "collapsed": true
   },
   "outputs": [],
   "source": [
    "#Write multiple lines in a text file\n",
    "myfile = open(\"fruits.txt\", 'w')\n",
    "myfile.write(\"apple\\norange\\nbanana\")\n",
    "myfile.close()"
   ]
  },
  {
   "cell_type": "markdown",
   "metadata": {},
   "source": [
    "The '\\n' is a special character that is interpreted as a break line"
   ]
  },
  {
   "cell_type": "code",
   "execution_count": 43,
   "metadata": {},
   "outputs": [
    {
     "name": "stdout",
     "output_type": "stream",
     "text": [
      "apple\n",
      "orange\n",
      "banana\n"
     ]
    }
   ],
   "source": [
    "#Read the fruits.txt file\n",
    "myfile = open(\"fruits.txt\", 'r')\n",
    "text = myfile.read()\n",
    "myfile.close()\n",
    "print(text)"
   ]
  },
  {
   "cell_type": "markdown",
   "metadata": {
    "collapsed": true
   },
   "source": [
    "**Lecture 40:** [Working with File Paths](https://www.udemy.com/the-python-mega-course/learn/v4/t/lecture/9520520?start=0)\n",
    "---"
   ]
  },
  {
   "cell_type": "markdown",
   "metadata": {},
   "source": [
    "If the text file you're processing is in the same directory with the directory you're running the code from then it is enough to simply specify the text file name:"
   ]
  },
  {
   "cell_type": "code",
   "execution_count": null,
   "metadata": {
    "collapsed": true
   },
   "outputs": [],
   "source": [
    "myfile = open(\"sample.txt\", 'r')"
   ]
  },
  {
   "cell_type": "markdown",
   "metadata": {},
   "source": [
    "If the file is somewhere else you need to specify the relative or the absolute path of that file:"
   ]
  },
  {
   "cell_type": "code",
   "execution_count": null,
   "metadata": {
    "collapsed": true
   },
   "outputs": [],
   "source": [
    "#Accessing a file that is inside a folder:\n",
    "myfile = open(\"files/sample.txt\", 'r')"
   ]
  },
  {
   "cell_type": "markdown",
   "metadata": {},
   "source": [
    "So, for the above code to work you need to have a directory named *files* and a file named *sample.txt* inside that directory."
   ]
  },
  {
   "cell_type": "markdown",
   "metadata": {},
   "source": [
    "Below are examples of accessing a file using the file absolute path:\n",
    "\n"
   ]
  },
  {
   "cell_type": "code",
   "execution_count": null,
   "metadata": {
    "collapsed": true
   },
   "outputs": [],
   "source": [
    "#Linux and Max style\n",
    "myfile = open(\"home/pm1/files/sample.txt\", 'r')"
   ]
  },
  {
   "cell_type": "code",
   "execution_count": null,
   "metadata": {
    "collapsed": true
   },
   "outputs": [],
   "source": [
    "#Windows style\n",
    "myfile = open(\"C:/pm1/files/sample.txt\", 'r')"
   ]
  },
  {
   "cell_type": "markdown",
   "metadata": {
    "collapsed": true
   },
   "source": [
    "**Lecture 41:** [Processing the Content of a File](https://www.udemy.com/the-python-mega-course/learn/v4/t/lecture/9520532?start=0)\n",
    "---"
   ]
  },
  {
   "cell_type": "code",
   "execution_count": 48,
   "metadata": {},
   "outputs": [
    {
     "name": "stdout",
     "output_type": "stream",
     "text": [
      "['apple', 'orange', 'banana']\n"
     ]
    }
   ],
   "source": [
    "myfile = open(\"fruits.txt\")\n",
    "fruits = myfile.read()\n",
    "fruits = fruits.splitlines()\n",
    "print(fruits)"
   ]
  },
  {
   "cell_type": "markdown",
   "metadata": {},
   "source": [
    "As can be seen in the code above once you read the text of a file with the read() method you can further process that text with Python. The text is a string so you can apply any of the string methods to that string."
   ]
  },
  {
   "cell_type": "markdown",
   "metadata": {
    "collapsed": true
   },
   "source": [
    "**Lecture 42:** [Exercise](https://www.udemy.com/the-python-mega-course/learn/v4/t/lecture/8295688?start=0)\n",
    "---"
   ]
  },
  {
   "cell_type": "markdown",
   "metadata": {},
   "source": [
    "Please download [this text file](http://pythonhow.com/data/fruits.txt). Then write some code that reads the content of the file and generates the following output in the command line:<br>\n",
    "pear<br>\n",
    "apple<br>\n",
    "orange<br>\n",
    "mandarin<br>\n",
    "watermelon<br>\n",
    "pomegranate<br>"
   ]
  },
  {
   "cell_type": "markdown",
   "metadata": {
    "collapsed": true
   },
   "source": [
    "**Lecture 43:** [Solution](https://www.udemy.com/the-python-mega-course/learn/v4/t/lecture/8295708?start=0)\n",
    "---"
   ]
  },
  {
   "cell_type": "code",
   "execution_count": null,
   "metadata": {
    "collapsed": true
   },
   "outputs": [],
   "source": [
    "file = open(\"fruits.txt\", \"r\")\n",
    "content = file.read()\n",
    "file.close()\n",
    "print(content)"
   ]
  },
  {
   "cell_type": "markdown",
   "metadata": {
    "collapsed": true
   },
   "source": [
    "**Lecture 44:** [For loops](https://www.udemy.com/the-python-mega-course/learn/v4/t/lecture/9520542?start=0)\n",
    "---"
   ]
  },
  {
   "cell_type": "markdown",
   "metadata": {},
   "source": [
    "For loops are used to perform an action multiple times. For example, if you want to print out all items of a list, you would use a for loop:\n",
    "\n"
   ]
  },
  {
   "cell_type": "code",
   "execution_count": 52,
   "metadata": {
    "collapsed": true
   },
   "outputs": [],
   "source": [
    "a = [1, 2, 3]"
   ]
  },
  {
   "cell_type": "code",
   "execution_count": 53,
   "metadata": {},
   "outputs": [
    {
     "name": "stdout",
     "output_type": "stream",
     "text": [
      "1\n",
      "2\n",
      "3\n"
     ]
    }
   ],
   "source": [
    "for item in a:\n",
    "    print(item)"
   ]
  },
  {
   "cell_type": "code",
   "execution_count": 54,
   "metadata": {},
   "outputs": [
    {
     "name": "stdout",
     "output_type": "stream",
     "text": [
      "11\n",
      "12\n",
      "13\n"
     ]
    }
   ],
   "source": [
    "#Another example of the for loop\n",
    "for i in a:\n",
    "    c = i + 10\n",
    "    print(c)"
   ]
  },
  {
   "cell_type": "code",
   "execution_count": 56,
   "metadata": {},
   "outputs": [
    {
     "name": "stdout",
     "output_type": "stream",
     "text": [
      "a\n",
      "p\n",
      "p\n",
      "l\n",
      "e\n",
      "\n",
      "\n",
      "o\n",
      "r\n",
      "a\n",
      "n\n",
      "g\n",
      "e\n",
      "\n",
      "\n",
      "b\n",
      "a\n",
      "n\n",
      "a\n",
      "n\n",
      "a\n"
     ]
    }
   ],
   "source": [
    "#Looping through the string extracted from a text file\n",
    "myfile = open(\"fruits.txt\")\n",
    "c = myfile.read()\n",
    "for i in c:\n",
    "    print(i)"
   ]
  },
  {
   "cell_type": "markdown",
   "metadata": {},
   "source": [
    "You get one letter per line because the loop goes throgh all the characters of the big string and prints them one by one."
   ]
  },
  {
   "cell_type": "code",
   "execution_count": 57,
   "metadata": {},
   "outputs": [
    {
     "name": "stdout",
     "output_type": "stream",
     "text": [
      "apple\n",
      "orange\n",
      "banana\n"
     ]
    }
   ],
   "source": [
    "myfile = open(\"fruits.txt\")\n",
    "c = myfile.read()\n",
    "c = c.splitlines()\n",
    "for i in c:\n",
    "    print(i)"
   ]
  },
  {
   "cell_type": "markdown",
   "metadata": {},
   "source": [
    "The code above creates a list by splitting the big string at every breakline. Then the loop iterates over the list and prints out its three items."
   ]
  },
  {
   "cell_type": "markdown",
   "metadata": {
    "collapsed": true
   },
   "source": [
    "**Lecture 45:** [Exercise](https://www.udemy.com/the-python-mega-course/learn/v4/t/lecture/8295046?start=0)\n",
    "---"
   ]
  },
  {
   "cell_type": "markdown",
   "metadata": {},
   "source": [
    "Create a for  loop block that iterates through the following list and prints out each item of the list in each iteration."
   ]
  },
  {
   "cell_type": "code",
   "execution_count": 58,
   "metadata": {
    "collapsed": true
   },
   "outputs": [],
   "source": [
    "mylist = [1, 2, 3, 4, 5] "
   ]
  },
  {
   "cell_type": "markdown",
   "metadata": {},
   "source": [
    "The expected output is:<br>\n",
    "1<br>\n",
    "2<br>\n",
    "3<br>\n",
    "4<br>\n",
    "5<br>"
   ]
  },
  {
   "cell_type": "markdown",
   "metadata": {
    "collapsed": true
   },
   "source": [
    "**Lecture 46:** [Solution](https://www.udemy.com/the-python-mega-course/learn/v4/t/lecture/8295102?start=0)\n",
    "---"
   ]
  },
  {
   "cell_type": "code",
   "execution_count": 60,
   "metadata": {},
   "outputs": [
    {
     "name": "stdout",
     "output_type": "stream",
     "text": [
      "1\n",
      "2\n",
      "3\n",
      "4\n",
      "5\n"
     ]
    }
   ],
   "source": [
    "mylist = [1, 2, 3, 4, 5]\n",
    "for i in mylist:\n",
    "    print(i)"
   ]
  },
  {
   "cell_type": "markdown",
   "metadata": {
    "collapsed": true
   },
   "source": [
    "**Lecture 47:** [Exercise](https://www.udemy.com/the-python-mega-course/learn/v4/t/lecture/8295140?start=0)\n",
    "---"
   ]
  },
  {
   "cell_type": "markdown",
   "metadata": {},
   "source": [
    "Create a for  loop that iterates through all the items of the following list and prints out the item if the item is greater than 2. \n"
   ]
  },
  {
   "cell_type": "code",
   "execution_count": 62,
   "metadata": {
    "collapsed": true
   },
   "outputs": [],
   "source": [
    "mylist = [1, 2, 3, 4, 5] "
   ]
  },
  {
   "cell_type": "markdown",
   "metadata": {},
   "source": [
    "The expected output is:<br>\n",
    "3<br>\n",
    "4<br>\n",
    "5<br>"
   ]
  },
  {
   "cell_type": "markdown",
   "metadata": {
    "collapsed": true
   },
   "source": [
    "**Lecture 48:** [Solution](https://www.udemy.com/the-python-mega-course/learn/v4/t/lecture/8295200?start=0)\n",
    "---"
   ]
  },
  {
   "cell_type": "code",
   "execution_count": 64,
   "metadata": {},
   "outputs": [
    {
     "name": "stdout",
     "output_type": "stream",
     "text": [
      "3\n",
      "4\n",
      "5\n"
     ]
    }
   ],
   "source": [
    "mylist = [1, 2, 3, 4, 5] \n",
    "for i in mylist:\n",
    "    if i > 2:\n",
    "        print(i)"
   ]
  },
  {
   "cell_type": "markdown",
   "metadata": {
    "collapsed": true
   },
   "source": [
    "**Lecture 49:** [Exercise](https://www.udemy.com/the-python-mega-course/learn/v4/t/lecture/8295714?start=0)\n",
    "---"
   ]
  },
  {
   "cell_type": "markdown",
   "metadata": {},
   "source": [
    "Please download [this file](http://pythonhow.com/data/fruits.txt) which contains these lines:<br>\n",
    "pear<br>\n",
    "apple<br>\n",
    "orange<br>\n",
    "mandarin<br>\n",
    "watermelon<br>\n",
    "pomegranate<br>\n",
    "Write some Python code that prints out the length of each string in the fruits.txt file. \n"
   ]
  },
  {
   "cell_type": "markdown",
   "metadata": {},
   "source": [
    "Expected output is:<br>\n",
    "4<br>\n",
    "5<br>\n",
    "6<br>\n",
    "8<br>\n",
    "10<br>\n",
    "11<br>"
   ]
  },
  {
   "cell_type": "markdown",
   "metadata": {
    "collapsed": true
   },
   "source": [
    "**Lecture 50:** [Solution](https://www.udemy.com/the-python-mega-course/learn/v4/t/lecture/8295716?start=0)\n",
    "---"
   ]
  },
  {
   "cell_type": "code",
   "execution_count": 66,
   "metadata": {},
   "outputs": [
    {
     "name": "stdout",
     "output_type": "stream",
     "text": [
      "4\n",
      "5\n",
      "6\n",
      "8\n",
      "10\n",
      "11\n"
     ]
    }
   ],
   "source": [
    "#One option\n",
    "myfile = open(\"fruits.txt\")\n",
    "content = myfile.read()\n",
    "myfile.close()\n",
    "content = content.splitlines()\n",
    "for i in content:\n",
    "     print(len(i))"
   ]
  },
  {
   "cell_type": "code",
   "execution_count": 67,
   "metadata": {},
   "outputs": [
    {
     "name": "stdout",
     "output_type": "stream",
     "text": [
      "4\n",
      "5\n",
      "6\n",
      "8\n",
      "10\n",
      "11\n"
     ]
    }
   ],
   "source": [
    "#Another option\n",
    "file = open(\"fruits.txt\")\n",
    "content = file.readlines()\n",
    "content = [line.strip() for line in content]\n",
    "file.close()\n",
    "for i in content:\n",
    "    print(len(i))"
   ]
  },
  {
   "cell_type": "markdown",
   "metadata": {
    "collapsed": true
   },
   "source": [
    "**Lecture 51:** [Exercise](https://www.udemy.com/the-python-mega-course/learn/v4/t/lecture/5173674?start=0)\n",
    "---"
   ]
  },
  {
   "cell_type": "markdown",
   "metadata": {},
   "source": [
    "In one of the previous exercises we created the following function that gets Celsius degrees as input and returns Fahrenheit, or a message if the Celsius input value is less than -273.15."
   ]
  },
  {
   "cell_type": "code",
   "execution_count": 68,
   "metadata": {
    "collapsed": true
   },
   "outputs": [],
   "source": [
    "def c_to_f(c):\n",
    "    if c< -273.15:\n",
    "        return \"That temperature doesn't make sense!\"\n",
    "    else:\n",
    "        f=c*9/5+32\n",
    "        return f"
   ]
  },
  {
   "cell_type": "markdown",
   "metadata": {},
   "source": [
    "Please implement a for  loop that iterates through the following *temperatures* list:<br> *temperatures=[10,-20,-289,100]*<br>  and then calls the above *c_to_f*   function in each iteration. In other words, this time you are using the function to calculate a series of values instead of just one value. "
   ]
  },
  {
   "cell_type": "markdown",
   "metadata": {},
   "source": [
    "The expected output is:<br>\n",
    "50.0<br>\n",
    "-4.0<br>\n",
    "That temperature doesn't make sense!<br>\n",
    "212.0<br>"
   ]
  },
  {
   "cell_type": "markdown",
   "metadata": {
    "collapsed": true
   },
   "source": [
    "**Lecture 52:** [Solution](https://www.udemy.com/the-python-mega-course/learn/v4/t/lecture/5173676?start=0)\n",
    "---"
   ]
  },
  {
   "cell_type": "code",
   "execution_count": 69,
   "metadata": {},
   "outputs": [
    {
     "name": "stdout",
     "output_type": "stream",
     "text": [
      "50.0\n",
      "-4.0\n",
      "That temperature doesn't make sense!\n",
      "212.0\n"
     ]
    }
   ],
   "source": [
    "temperatures=[10,-20,-289,100]\n",
    "def c_to_f(c):\n",
    "    if c< -273.15:\n",
    "        return \"That temperature doesn't make sense!\"\n",
    "    else:\n",
    "        f=c*9/5+32\n",
    "        return f\n",
    "for t in temperatures:\n",
    "    print(c_to_f(t))"
   ]
  },
  {
   "cell_type": "markdown",
   "metadata": {
    "collapsed": true
   },
   "source": [
    "**Lecture 53:** [Writing Text to a File](https://www.udemy.com/the-python-mega-course/learn/v4/t/lecture/9520558?start=0)\n",
    "---"
   ]
  },
  {
   "cell_type": "markdown",
   "metadata": {},
   "source": [
    "Files can be opened with the open() function and be read with read() and you can write text with write(). To know how these work you can use the help function:"
   ]
  },
  {
   "cell_type": "code",
   "execution_count": null,
   "metadata": {
    "collapsed": true
   },
   "outputs": [],
   "source": [
    "help(open)\n",
    "help(open.write)\n",
    "help(open.read)"
   ]
  },
  {
   "cell_type": "code",
   "execution_count": 23,
   "metadata": {
    "collapsed": true
   },
   "outputs": [],
   "source": [
    "#Create a new file and write a string to it\n",
    "myfile = open(\"employees.txt\", \"w\")\n",
    "myfile.write(\"Mike\")\n",
    "myfile.close()"
   ]
  },
  {
   "cell_type": "code",
   "execution_count": 24,
   "metadata": {},
   "outputs": [
    {
     "name": "stdout",
     "output_type": "stream",
     "text": [
      "Mike"
     ]
    }
   ],
   "source": [
    "#check to see what we got in the text file (this is a Unix command)\n",
    "!cat employees.txt"
   ]
  },
  {
   "cell_type": "code",
   "execution_count": 26,
   "metadata": {
    "collapsed": true
   },
   "outputs": [],
   "source": [
    "#Writing multiple lines\n",
    "myfile = open(\"employees.txt\", \"w\")\n",
    "myfile.write(\"Mike\\nJoe\\nJack\")\n",
    "myfile.close()"
   ]
  },
  {
   "cell_type": "code",
   "execution_count": 27,
   "metadata": {},
   "outputs": [
    {
     "name": "stdout",
     "output_type": "stream",
     "text": [
      "Mike\r\n",
      "Joe\r\n",
      "Jack"
     ]
    }
   ],
   "source": [
    "!cat employees.txt"
   ]
  },
  {
   "cell_type": "code",
   "execution_count": 28,
   "metadata": {
    "collapsed": true
   },
   "outputs": [],
   "source": [
    "#The write() method keeps adding text to an already open file\n",
    "myfile = open(\"employees2.txt\", \"w\")\n",
    "myfile.write(\"Mike\")\n",
    "myfile.write(\"Joe\")\n",
    "myfile.close()"
   ]
  },
  {
   "cell_type": "code",
   "execution_count": 29,
   "metadata": {},
   "outputs": [
    {
     "name": "stdout",
     "output_type": "stream",
     "text": [
      "MikeJoe"
     ]
    }
   ],
   "source": [
    "!cat employees2.txt"
   ]
  },
  {
   "cell_type": "markdown",
   "metadata": {},
   "source": [
    "As you can see above that will write one string after the other. You may want top have a break lne between the two:"
   ]
  },
  {
   "cell_type": "code",
   "execution_count": 44,
   "metadata": {
    "collapsed": true
   },
   "outputs": [],
   "source": [
    "#The write() method keeps adding text to an already open file\n",
    "myfile = open(\"employees2.txt\", \"w\")\n",
    "myfile.write(\"Mike\")\n",
    "myfile.write(\"\\nJoe\")\n",
    "myfile.close()"
   ]
  },
  {
   "cell_type": "code",
   "execution_count": 45,
   "metadata": {},
   "outputs": [
    {
     "name": "stdout",
     "output_type": "stream",
     "text": [
      "Mike\r\n",
      "Joe"
     ]
    }
   ],
   "source": [
    "!cat employees2.txt"
   ]
  },
  {
   "cell_type": "markdown",
   "metadata": {
    "collapsed": true
   },
   "source": [
    "**Lecture 54:** [Appending Text to a File](https://www.udemy.com/the-python-mega-course/learn/v4/t/lecture/9520574?start=0)\n",
    "---"
   ]
  },
  {
   "cell_type": "code",
   "execution_count": 46,
   "metadata": {},
   "outputs": [
    {
     "name": "stdout",
     "output_type": "stream",
     "text": [
      "Mike\r\n",
      "Joe"
     ]
    }
   ],
   "source": [
    "!cat employees2.txt"
   ]
  },
  {
   "cell_type": "code",
   "execution_count": 47,
   "metadata": {
    "collapsed": true
   },
   "outputs": [],
   "source": [
    "#Let's now append one more line under MikeJoe\n",
    "myfile = open(\"employees2.txt\", \"a\")\n",
    "myfile.write(\"\\nJack\")\n",
    "myfile.close()"
   ]
  },
  {
   "cell_type": "code",
   "execution_count": 48,
   "metadata": {},
   "outputs": [
    {
     "name": "stdout",
     "output_type": "stream",
     "text": [
      "Mike\r\n",
      "Joe\r\n",
      "Jack"
     ]
    }
   ],
   "source": [
    "!cat employees2.txt"
   ]
  },
  {
   "cell_type": "code",
   "execution_count": 49,
   "metadata": {},
   "outputs": [
    {
     "ename": "UnsupportedOperation",
     "evalue": "not readable",
     "output_type": "error",
     "traceback": [
      "\u001b[0;31m---------------------------------------------------------------------------\u001b[0m",
      "\u001b[0;31mUnsupportedOperation\u001b[0m                      Traceback (most recent call last)",
      "\u001b[0;32m<ipython-input-49-9ee16cf32cb1>\u001b[0m in \u001b[0;36m<module>\u001b[0;34m()\u001b[0m\n\u001b[1;32m      1\u001b[0m \u001b[0;31m#the \"a\" mode doesn't support read() operations\u001b[0m\u001b[0;34m\u001b[0m\u001b[0;34m\u001b[0m\u001b[0m\n\u001b[1;32m      2\u001b[0m \u001b[0mmyfile\u001b[0m \u001b[0;34m=\u001b[0m \u001b[0mopen\u001b[0m\u001b[0;34m(\u001b[0m\u001b[0;34m\"employees2.txt\"\u001b[0m\u001b[0;34m,\u001b[0m \u001b[0;34m\"a\"\u001b[0m\u001b[0;34m)\u001b[0m\u001b[0;34m\u001b[0m\u001b[0m\n\u001b[0;32m----> 3\u001b[0;31m \u001b[0mmyfile\u001b[0m\u001b[0;34m.\u001b[0m\u001b[0mread\u001b[0m\u001b[0;34m(\u001b[0m\u001b[0;34m)\u001b[0m\u001b[0;34m\u001b[0m\u001b[0m\n\u001b[0m",
      "\u001b[0;31mUnsupportedOperation\u001b[0m: not readable"
     ]
    }
   ],
   "source": [
    "#the \"a\" mode doesn't support read() operations\n",
    "myfile = open(\"employees2.txt\", \"a\")\n",
    "myfile.read()"
   ]
  },
  {
   "cell_type": "markdown",
   "metadata": {},
   "source": [
    "The \"a+\" explained in the next lecture mode supports both read and write operations."
   ]
  },
  {
   "cell_type": "markdown",
   "metadata": {
    "collapsed": true
   },
   "source": [
    "**Lecture 55:** [Reading and Appending Text to a File](https://www.udemy.com/the-python-mega-course/learn/v4/t/lecture/9520578?start=0)\n",
    "---"
   ]
  },
  {
   "cell_type": "code",
   "execution_count": 50,
   "metadata": {},
   "outputs": [
    {
     "name": "stdout",
     "output_type": "stream",
     "text": [
      "Mike\r\n",
      "Joe\r\n",
      "Jack"
     ]
    }
   ],
   "source": [
    "!cat employees2.txt"
   ]
  },
  {
   "cell_type": "code",
   "execution_count": 51,
   "metadata": {},
   "outputs": [
    {
     "data": {
      "text/plain": [
       "''"
      ]
     },
     "execution_count": 51,
     "metadata": {},
     "output_type": "execute_result"
    }
   ],
   "source": [
    "#Trying to read the file returns an empty string\n",
    "myfile = open(\"employees2.txt\", \"a+\")\n",
    "myfile.read()"
   ]
  },
  {
   "cell_type": "markdown",
   "metadata": {},
   "source": [
    "The reason you get an empty string is because the \"a+\" mode reads the content after the existing text. In other words the cursor is set at the end of the file byu default. You can change that by setting the cursor at the beginning:"
   ]
  },
  {
   "cell_type": "code",
   "execution_count": 52,
   "metadata": {},
   "outputs": [
    {
     "data": {
      "text/plain": [
       "'Mike\\nJoe\\nJack'"
      ]
     },
     "execution_count": 52,
     "metadata": {},
     "output_type": "execute_result"
    }
   ],
   "source": [
    "#set the cursor at character 0 and read from there\n",
    "myfile.seek(0)\n",
    "myfile.read()"
   ]
  },
  {
   "cell_type": "markdown",
   "metadata": {},
   "source": [
    "Note that if you want to see a nicely printed output you should use *print(myfile.read())*"
   ]
  },
  {
   "cell_type": "code",
   "execution_count": 53,
   "metadata": {
    "collapsed": true
   },
   "outputs": [],
   "source": [
    "#you can write text in the file opened with \"a+\"\n",
    "myfile.write(\"\\nJohn\")\n",
    "myfile.close()"
   ]
  },
  {
   "cell_type": "code",
   "execution_count": 54,
   "metadata": {
    "scrolled": true
   },
   "outputs": [
    {
     "name": "stdout",
     "output_type": "stream",
     "text": [
      "Mike\r\n",
      "Joe\r\n",
      "Jack\r\n",
      "John"
     ]
    }
   ],
   "source": [
    "!cat employees2.txt"
   ]
  },
  {
   "cell_type": "markdown",
   "metadata": {
    "collapsed": true
   },
   "source": [
    "**Lecture 56 - 57:** [Exercise](https://www.udemy.com/the-python-mega-course/learn/v4/t/lecture/8295738?start=0)\n",
    "---"
   ]
  },
  {
   "cell_type": "markdown",
   "metadata": {},
   "source": [
    "Please write some code that creates a text file and writes the items of list **numbers = [1, 2, 3]** to that text file.\n",
    "\n",
    "The text file content should look like following:<br>\n",
    "\n",
    "1<br>\n",
    "2<br>\n",
    "3<br>"
   ]
  },
  {
   "cell_type": "markdown",
   "metadata": {
    "collapsed": true
   },
   "source": [
    "**Lecture 58:** [Solution](https://www.udemy.com/the-python-mega-course/learn/v4/t/lecture/8295740?start=0)\n",
    "---"
   ]
  },
  {
   "cell_type": "code",
   "execution_count": 56,
   "metadata": {
    "collapsed": true
   },
   "outputs": [],
   "source": [
    "numbers = [1, 2, 3]\n",
    "file = open(\"numbers.txt\", \"w\")\n",
    "for i in numbers:\n",
    "     file.write(str(i) + \"\\n\")\n",
    "file.close()"
   ]
  }
 ],
 "metadata": {
  "kernelspec": {
   "display_name": "Python 3",
   "language": "python",
   "name": "python3"
  },
  "language_info": {
   "codemirror_mode": {
    "name": "ipython",
    "version": 3
   },
   "file_extension": ".py",
   "mimetype": "text/x-python",
   "name": "python",
   "nbconvert_exporter": "python",
   "pygments_lexer": "ipython3",
   "version": "3.6.3"
  }
 },
 "nbformat": 4,
 "nbformat_minor": 2
}
