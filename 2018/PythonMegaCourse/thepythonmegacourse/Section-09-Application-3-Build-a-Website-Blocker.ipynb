{
 "cells": [
  {
   "cell_type": "markdown",
   "metadata": {},
   "source": [
    "# The Python Mega Course: Build 10 Real World Applications\n",
    "---"
   ]
  },
  {
   "cell_type": "markdown",
   "metadata": {},
   "source": [
    "This notebook contains the source code for the video lectures of Section 9 of [The Python Mega Course: Build 10 Real World Applciations](https://www.udemy.com/the-python-mega-course/?couponCode=GITHEADSECTION)."
   ]
  },
  {
   "cell_type": "markdown",
   "metadata": {},
   "source": [
    "# Section 9: Application 3: Build a Website Blocker\n",
    "***"
   ]
  },
  {
   "cell_type": "markdown",
   "metadata": {},
   "source": [
    "**Lecture:** [Program Demonstration](https://www.udemy.com/the-python-mega-course/learn/v4/t/lecture/5163360?start=0)\n",
    "---"
   ]
  },
  {
   "cell_type": "markdown",
   "metadata": {},
   "source": [
    "This lecture demonstrates the finished version of the program that you're going to build in this section."
   ]
  },
  {
   "cell_type": "markdown",
   "metadata": {},
   "source": [
    "**Lecture:** [Application Architecture](https://www.udemy.com/the-python-mega-course/learn/v4/t/lecture/5163364?start=0)\n",
    "---"
   ]
  },
  {
   "cell_type": "markdown",
   "metadata": {},
   "source": [
    "This lecture shows how we're going to approach the problem of writing a program that blocks access to distracting websites."
   ]
  },
  {
   "cell_type": "markdown",
   "metadata": {},
   "source": [
    "**Lecture:** [Setting up the Script](https://www.udemy.com/the-python-mega-course/learn/v4/t/lecture/5163366?start=0)\n",
    "---"
   ]
  },
  {
   "cell_type": "code",
   "execution_count": 33,
   "metadata": {},
   "outputs": [
    {
     "name": "stdout",
     "output_type": "stream",
     "text": [
      "1\n",
      "1\n",
      "1\n"
     ]
    }
   ],
   "source": [
    "import time\n",
    "\n",
    "hosts_path = \"/etc/hosts\" # If you're on Windows change to hosts_path = r\"C:\\Windows\\System32\\drivers\\etc\\hosts\"\n",
    "redirect = \"127.0.0.1\"\n",
    "website_list = [\"www.facebook.com\", \"facebook.com\", \"dub119.mail.live.com\", \"www.dub119.mail.live.com\"]\n",
    "\n",
    "i = 0\n",
    "while i < 3:\n",
    "    print(1)\n",
    "    time.sleep(5)\n",
    "    i = i + 1"
   ]
  },
  {
   "cell_type": "markdown",
   "metadata": {},
   "source": [
    "**Lecture:** [Setting up the Infinite Loop](https://www.udemy.com/the-python-mega-course/learn/v4/t/lecture/5163368?start=15)\n",
    "---"
   ]
  },
  {
   "cell_type": "code",
   "execution_count": null,
   "metadata": {
    "collapsed": true
   },
   "outputs": [],
   "source": [
    "import time\n",
    "from datetime import datetime as dt\n",
    "\n",
    "hosts_path = \"/etc/hosts\" # If you're on Windows change to hosts_path = r\"C:\\Windows\\System32\\drivers\\etc\\hosts\"\n",
    "redirect=\"127.0.0.1\"\n",
    "website_list = [\"www.facebook.com\", \"facebook.com\", \"dub119.mail.live.com\", \"www.dub119.mail.live.com\"]\n",
    "\n",
    "while True:\n",
    "    if dt(dt.now().year,dt.now().month,dt.now().day,8) < dt.now() < dt(dt.now().year,dt.now().month,dt.now().day,16):\n",
    "        print(\"Working hours...\")\n",
    "    else:\n",
    "        print(\"Fun hours...\")\n",
    "    time.sleep(5)"
   ]
  },
  {
   "cell_type": "markdown",
   "metadata": {},
   "source": [
    "**Lecture:** [Implementing the First Part](https://www.udemy.com/the-python-mega-course/learn/v4/t/lecture/5163372?start=0)\n",
    "---"
   ]
  },
  {
   "cell_type": "code",
   "execution_count": null,
   "metadata": {
    "collapsed": true
   },
   "outputs": [],
   "source": [
    "import time\n",
    "from datetime import datetime as dt\n",
    "\n",
    "hosts_temp = \"hosts\"\n",
    "hosts_path = \"/etc/hosts\" # If you're on Windows change to hosts_path = r\"C:\\Windows\\System32\\drivers\\etc\\hosts\"\n",
    "redirect = \"127.0.0.1\"\n",
    "website_list=[\"www.facebook.com\", \"facebook.com\", \"dub119.mail.live.com\", \"www.dub119.mail.live.com\"]\n",
    "\n",
    "while True:\n",
    "    if dt(dt.now().year,dt.now().month,dt.now().day,8) < dt.now() < dt(dt.now().year,dt.now().month,dt.now().day,16):\n",
    "        print(\"Working hours...\")\n",
    "        with open(hosts_temp, 'r+') as file:\n",
    "            content = file.read()\n",
    "            for website in website_list:\n",
    "                if website in content:\n",
    "                    pass\n",
    "                else:\n",
    "                    file.write(redirect + \" \" + website + \"\\n\")\n",
    "    else:\n",
    "        print(\"Fun hours...\")\n",
    "    time.sleep(5)"
   ]
  },
  {
   "cell_type": "markdown",
   "metadata": {},
   "source": [
    "**Lecture:** [Implementing the Second Part](https://www.udemy.com/the-python-mega-course/learn/v4/t/lecture/5163376?start=0)\n",
    "---"
   ]
  },
  {
   "cell_type": "code",
   "execution_count": null,
   "metadata": {
    "collapsed": true
   },
   "outputs": [],
   "source": [
    "import time\n",
    "from datetime import datetime as dt\n",
    "\n",
    "hosts_temp = \"hosts\"\n",
    "hosts_path = \"/etc/hosts\" # If you're on Windows change to hosts_path = r\"C:\\Windows\\System32\\drivers\\etc\\hosts\"\n",
    "redirect = \"127.0.0.1\"\n",
    "website_list = [\"www.facebook.com\", \"facebook.com\", \"dub119.mail.live.com\", \"www.dub119.mail.live.com\"]\n",
    "\n",
    "while True:\n",
    "    if dt(dt.now().year,dt.now().month,dt.now().day,8) < dt.now() < dt(dt.now().year,dt.now().month, dt.now().day,16):\n",
    "        print(\"Working hours...\")\n",
    "        with open(hosts_temp, 'r+') as file:\n",
    "            content=file.read()\n",
    "            for website in website_list:\n",
    "                if website in content:\n",
    "                    pass\n",
    "                else:\n",
    "                    file.write(redirect + \" \" + website + \"\\n\")\n",
    "    else:\n",
    "        with open(hosts_temp, 'r+') as file:\n",
    "            content=file.readlines()\n",
    "            file.seek(0)\n",
    "            for line in content:\n",
    "                if not any(website in line for website in website_list):\n",
    "                    file.write(line)\n",
    "            file.truncate()\n",
    "        print(\"Fun hours...\")\n",
    "    time.sleep(5)"
   ]
  },
  {
   "cell_type": "markdown",
   "metadata": {},
   "source": [
    "**Lecture:** [The any() Function](https://www.udemy.com/the-python-mega-course/learn/v4/t/lecture/11333638?start=0)\n",
    "---"
   ]
  },
  {
   "cell_type": "markdown",
   "metadata": {},
   "source": [
    "Hi, in case you didn't understand the if not any(website in line for website in website_list) part in the previous video here is another example:"
   ]
  },
  {
   "cell_type": "code",
   "execution_count": 27,
   "metadata": {},
   "outputs": [
    {
     "name": "stdout",
     "output_type": "stream",
     "text": [
      "False\n",
      "False\n",
      "True\n"
     ]
    }
   ],
   "source": [
    "lines  = [\"trees are good\", \"pool is fresh\", \"face is round\"]\n",
    "website_list = [\"face\", \"clock\", \"trend\"]\n",
    "for line in lines:\n",
    "    print(any(website in line for website in website_list))"
   ]
  },
  {
   "cell_type": "markdown",
   "metadata": {},
   "source": [
    "So, we start iterating over the items of website_list using a for loop. In the first iteration we would have:"
   ]
  },
  {
   "cell_type": "code",
   "execution_count": null,
   "metadata": {
    "collapsed": true
   },
   "outputs": [],
   "source": [
    "any(website in \"trees are good\" for website in website_list)"
   ]
  },
  {
   "cell_type": "markdown",
   "metadata": {},
   "source": [
    "Inside the parenthesis of *any()* there's another loop that iterates over *website_list*:"
   ]
  },
  {
   "cell_type": "raw",
   "metadata": {},
   "source": [
    "(\"face\" in \"trees are good\")\n",
    "(\"clock\" in \"trees are good\")\n",
    "(\"trend\" in \"trees are good\")"
   ]
  },
  {
   "cell_type": "markdown",
   "metadata": {},
   "source": [
    "If any of these is True you get the expression evalueated to True. In this case none of them is True, so you get False. If you want to return True if all of them are True, you need to use all() instead of any().\n",
    "\n",
    "So, the part any(website in line for website in website_list)will either be equal to True or False."
   ]
  },
  {
   "cell_type": "markdown",
   "metadata": {},
   "source": [
    "**Lecture:** [Scheduling the Python Program on Windows](https://www.udemy.com/the-python-mega-course/learn/v4/t/lecture/5163380?start=0)\n",
    "---"
   ]
  },
  {
   "cell_type": "markdown",
   "metadata": {},
   "source": [
    "This video lecture explains how to schedule a Python program for execution at a certain time during the day on a Windows computer."
   ]
  },
  {
   "cell_type": "markdown",
   "metadata": {},
   "source": [
    "**Lecture:** [Scheduling the Python Program on Mac and Linux](https://www.udemy.com/the-python-mega-course/learn/v4/t/lecture/5163382?start=0)\n",
    "---"
   ]
  },
  {
   "cell_type": "markdown",
   "metadata": {},
   "source": [
    "This video lecture explains how to schedule a Python program for execution at a certain time during the day on a Mac or Linux computer."
   ]
  },
  {
   "cell_type": "markdown",
   "metadata": {},
   "source": [
    "**Lecture:** [Final Code of Application 3]()\n",
    "---"
   ]
  },
  {
   "cell_type": "code",
   "execution_count": null,
   "metadata": {
    "collapsed": true
   },
   "outputs": [],
   "source": [
    "import time\n",
    "from datetime import datetime as dt\n",
    "\n",
    "hosts_temp = \"hosts\"\n",
    "hosts_path = \"/etc/hosts\" # If you're on Windows change to hosts_path = r\"C:\\Windows\\System32\\drivers\\etc\\hosts\"\n",
    "redirect = \"127.0.0.1\"\n",
    "website_list = [\"www.facebook.com\", \"facebook.com\", \"dub119.mail.live.com\", \"www.dub119.mail.live.com\"]\n",
    "\n",
    "while True:\n",
    "    if dt(dt.now().year,dt.now().month,dt.now().day,8) < dt.now() < dt(dt.now().year,dt.now().month, dt.now().day,16):\n",
    "        print(\"Working hours...\")\n",
    "        with open(hosts_temp, 'r+') as file:\n",
    "            content=file.read()\n",
    "            for website in website_list:\n",
    "                if website in content:\n",
    "                    pass\n",
    "                else:\n",
    "                    file.write(redirect + \" \" + website + \"\\n\")\n",
    "    else:\n",
    "        with open(hosts_temp, 'r+') as file:\n",
    "            content=file.readlines()\n",
    "            file.seek(0)\n",
    "            for line in content:\n",
    "                if not any(website in line for website in website_list):\n",
    "                    file.write(line)\n",
    "            file.truncate()\n",
    "        print(\"Fun hours...\")\n",
    "    time.sleep(5)"
   ]
  }
 ],
 "metadata": {
  "kernelspec": {
   "display_name": "Python 3",
   "language": "python",
   "name": "python3"
  },
  "language_info": {
   "codemirror_mode": {
    "name": "ipython",
    "version": 3
   },
   "file_extension": ".py",
   "mimetype": "text/x-python",
   "name": "python",
   "nbconvert_exporter": "python",
   "pygments_lexer": "ipython3",
   "version": "3.6.3"
  }
 },
 "nbformat": 4,
 "nbformat_minor": 2
}
