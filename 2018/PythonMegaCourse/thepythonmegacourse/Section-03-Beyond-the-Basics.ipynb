{
 "cells": [
  {
   "cell_type": "markdown",
   "metadata": {},
   "source": [
    "# The Python Mega Course: Build 10 Real World Applications\n",
    "---"
   ]
  },
  {
   "cell_type": "markdown",
   "metadata": {},
   "source": [
    "This notebook contains the source code for the video lectures of Section 3 of [The Python Mega Course: Build 10 Real World Applciations](https://www.udemy.com/the-python-mega-course/?couponCode=GITHEADSECTION)."
   ]
  },
  {
   "cell_type": "markdown",
   "metadata": {},
   "source": [
    "# Section 3: Beyond the Basics\n",
    "***"
   ]
  },
  {
   "cell_type": "markdown",
   "metadata": {
    "collapsed": true
   },
   "source": [
    "**Lecture 59:** [Section Introduction](https://www.udemy.com/the-python-mega-course/learn/v4/t/lecture/9542698?start=0)\n",
    "---"
   ]
  },
  {
   "cell_type": "markdown",
   "metadata": {},
   "source": [
    "This section covers some more advanced concepts of Python such as while loops, date and time objects, advanced file namipulations, and more."
   ]
  },
  {
   "cell_type": "markdown",
   "metadata": {
    "collapsed": true
   },
   "source": [
    "**Lecture 60:** [Setting Up](https://www.udemy.com/the-python-mega-course/learn/v4/t/lecture/9542704?start=180)\n",
    "---"
   ]
  },
  {
   "cell_type": "markdown",
   "metadata": {},
   "source": [
    "This lecture covers how to setup Python and the Atom editor on Windows, Mac, and Linux."
   ]
  },
  {
   "cell_type": "markdown",
   "metadata": {
    "collapsed": true
   },
   "source": [
    "**Lecture 61:** [While Loop](https://www.udemy.com/the-python-mega-course/learn/v4/t/lecture/9529658?start=0)\n",
    "---"
   ]
  },
  {
   "cell_type": "code",
   "execution_count": 58,
   "metadata": {},
   "outputs": [
    {
     "name": "stdout",
     "output_type": "stream",
     "text": [
      "Smaller\n",
      "Smaller\n",
      "Smaller\n"
     ]
    }
   ],
   "source": [
    "#The loop below will run as long as x is less than 3\n",
    "x = 0\n",
    "while x < 3:\n",
    "    print(\"Smaller\")\n",
    "    x = x + 1"
   ]
  },
  {
   "cell_type": "markdown",
   "metadata": {
    "collapsed": true
   },
   "source": [
    "**Lecture 62:** [While Loop with Password Checker](https://www.udemy.com/the-python-mega-course/learn/v4/t/lecture/9542712?start=0)\n",
    "---"
   ]
  },
  {
   "cell_type": "code",
   "execution_count": 59,
   "metadata": {},
   "outputs": [
    {
     "name": "stdout",
     "output_type": "stream",
     "text": [
      "Enter password: python123\n",
      "Logged in\n"
     ]
    }
   ],
   "source": [
    "correct_password = \"python123\"\n",
    "password = input(\"Enter password: \")\n",
    "\n",
    "#the loop below will run as long as a wrong password is submitted\n",
    "while correct_password != password:\n",
    "    password = input(\"Wrong password! Enter again: \")\n",
    "    \n",
    "print(\"Logged in\")"
   ]
  },
  {
   "cell_type": "markdown",
   "metadata": {
    "collapsed": true
   },
   "source": [
    "**Lecture 63:** [String Formatting](https://www.udemy.com/the-python-mega-course/learn/v4/t/lecture/9529762?start=0)\n",
    "---"
   ]
  },
  {
   "cell_type": "code",
   "execution_count": 1,
   "metadata": {},
   "outputs": [
    {
     "name": "stdout",
     "output_type": "stream",
     "text": [
      "Enter name: Ardit\n",
      "Enter surname: Sulce\n",
      "Enter password: python123\n",
      "Hi Ardit Sulce, you are logged in\n"
     ]
    }
   ],
   "source": [
    "correct_password = \"python123\"\n",
    "name = input(\"Enter name: \")\n",
    "surname = input(\"Enter surname: \")\n",
    "password = input(\"Enter password: \")\n",
    "\n",
    "while correct_password  != password:\n",
    "    password = input(\"Wrong password! Enter again: \")\n",
    "\n",
    "#the %s will be replaced by the values of name and surname\n",
    "message = \"Hi %s %s, you are logged in\" % (name, surname) \n",
    "print(message)\n"
   ]
  },
  {
   "cell_type": "markdown",
   "metadata": {
    "collapsed": true
   },
   "source": [
    "**Lecture 64:** [Modules, Libraries, and Packages](https://www.udemy.com/the-python-mega-course/learn/v4/t/lecture/9529672?start=0)\n",
    "---"
   ]
  },
  {
   "cell_type": "code",
   "execution_count": 2,
   "metadata": {
    "collapsed": true
   },
   "outputs": [],
   "source": [
    "#Example of importing a module\n",
    "import os"
   ]
  },
  {
   "cell_type": "code",
   "execution_count": 6,
   "metadata": {
    "collapsed": true,
    "scrolled": true
   },
   "outputs": [],
   "source": [
    "#Example of importing a package\n",
    "import sqlite3"
   ]
  },
  {
   "cell_type": "code",
   "execution_count": 7,
   "metadata": {},
   "outputs": [
    {
     "data": {
      "text/plain": [
       "'/Library/Frameworks/Python.framework/Versions/3.6/lib/python3.6/os.py'"
      ]
     },
     "execution_count": 7,
     "metadata": {},
     "output_type": "execute_result"
    }
   ],
   "source": [
    "#get module installation path\n",
    "os.__file__"
   ]
  },
  {
   "cell_type": "code",
   "execution_count": 9,
   "metadata": {},
   "outputs": [
    {
     "data": {
      "text/plain": [
       "'/Library/Frameworks/Python.framework/Versions/3.6/lib/python3.6/sqlite3/__init__.py'"
      ]
     },
     "execution_count": 9,
     "metadata": {},
     "output_type": "execute_result"
    }
   ],
   "source": [
    "#get package installation path\n",
    "sqlite3.__file__"
   ]
  },
  {
   "cell_type": "markdown",
   "metadata": {},
   "source": [
    "Modules are made of just one .py file. Packages are made of multiple files arranged in one or more folders. If \\__file\\__ returns the name of the imported object then it is a module. If it returns \\__init\\__.py it is a package. A library is usually a word used to refer to either a module or a package."
   ]
  },
  {
   "cell_type": "markdown",
   "metadata": {
    "collapsed": true
   },
   "source": [
    "**Lecture 65:** [Installing Python Packages](https://www.udemy.com/the-python-mega-course/learn/v4/t/lecture/9542632?start=0)\n",
    "---"
   ]
  },
  {
   "cell_type": "markdown",
   "metadata": {},
   "source": [
    "To install third-party libraries use pip in your command line. For example, to install the library *glob2* you do:"
   ]
  },
  {
   "cell_type": "code",
   "execution_count": null,
   "metadata": {
    "collapsed": true
   },
   "outputs": [],
   "source": [
    "pip install glob2"
   ]
  },
  {
   "cell_type": "markdown",
   "metadata": {},
   "source": [
    "If you are using Python3 on Mac or Linux, you may want to do this instead:\n"
   ]
  },
  {
   "cell_type": "code",
   "execution_count": null,
   "metadata": {
    "collapsed": true
   },
   "outputs": [],
   "source": [
    "pip3 install glob2"
   ]
  },
  {
   "cell_type": "markdown",
   "metadata": {},
   "source": [
    "If none of the above doesn't work you may try one of the following:"
   ]
  },
  {
   "cell_type": "code",
   "execution_count": null,
   "metadata": {
    "collapsed": true
   },
   "outputs": [],
   "source": [
    "python -m pip install glob2"
   ]
  },
  {
   "cell_type": "code",
   "execution_count": null,
   "metadata": {
    "collapsed": true
   },
   "outputs": [],
   "source": [
    "python3 -m pip install glob2"
   ]
  },
  {
   "cell_type": "markdown",
   "metadata": {
    "collapsed": true
   },
   "source": [
    "**Lecture 66:** [Working with Date and Time Objects](https://www.udemy.com/the-python-mega-course/learn/v4/t/lecture/9529654?start=0)\n",
    "---"
   ]
  },
  {
   "cell_type": "code",
   "execution_count": 16,
   "metadata": {
    "collapsed": true
   },
   "outputs": [],
   "source": [
    "#import the datetime class from the datetime module\n",
    "from datetime import datetime"
   ]
  },
  {
   "cell_type": "code",
   "execution_count": 17,
   "metadata": {},
   "outputs": [
    {
     "data": {
      "text/plain": [
       "datetime.timedelta(42901, 59738, 86244)"
      ]
     },
     "execution_count": 17,
     "metadata": {},
     "output_type": "execute_result"
    }
   ],
   "source": [
    "#Calculate the difference between now and date 12/31/1900\n",
    "delta = datetime.now() - datetime(1900, 12, 31)\n",
    "delta"
   ]
  },
  {
   "cell_type": "code",
   "execution_count": 18,
   "metadata": {},
   "outputs": [
    {
     "data": {
      "text/plain": [
       "42901"
      ]
     },
     "execution_count": 18,
     "metadata": {},
     "output_type": "execute_result"
    }
   ],
   "source": [
    "#Difference in days\n",
    "delta.days"
   ]
  },
  {
   "cell_type": "code",
   "execution_count": 19,
   "metadata": {},
   "outputs": [
    {
     "data": {
      "text/plain": [
       "59738"
      ]
     },
     "execution_count": 19,
     "metadata": {},
     "output_type": "execute_result"
    }
   ],
   "source": [
    "#The remainder in seconds\n",
    "delta.seconds"
   ]
  },
  {
   "cell_type": "markdown",
   "metadata": {},
   "source": [
    "So, the difference between now and 12/31/1900 is 42901 days and 59442 seconds"
   ]
  },
  {
   "cell_type": "code",
   "execution_count": 24,
   "metadata": {},
   "outputs": [
    {
     "data": {
      "text/plain": [
       "datetime.datetime(1900, 12, 31, 20, 12, 59, 83845)"
      ]
     },
     "execution_count": 24,
     "metadata": {},
     "output_type": "execute_result"
    }
   ],
   "source": [
    "#create a datetime object manually\n",
    "then = datetime(1900, 12, 31, 20, 12, 59, 83845)\n",
    "then"
   ]
  },
  {
   "cell_type": "markdown",
   "metadata": {},
   "source": [
    "The above means *datetime(year, month, day, hour, minute, second, microsecond)*"
   ]
  },
  {
   "cell_type": "code",
   "execution_count": 25,
   "metadata": {},
   "outputs": [
    {
     "data": {
      "text/plain": [
       "datetime.datetime(2018, 6, 16, 16, 41, 35, 438543)"
      ]
     },
     "execution_count": 25,
     "metadata": {},
     "output_type": "execute_result"
    }
   ],
   "source": [
    "#create a datetime object representing the now\n",
    "now = datetime.now()\n",
    "now"
   ]
  },
  {
   "cell_type": "code",
   "execution_count": 29,
   "metadata": {},
   "outputs": [
    {
     "data": {
      "text/plain": [
       "datetime.datetime(2017, 12, 31, 0, 0)"
      ]
     },
     "execution_count": 29,
     "metadata": {},
     "output_type": "execute_result"
    }
   ],
   "source": [
    "#create a datetime object out of a string\n",
    "whenever = datetime.strptime(\"2017-12-31\", \"%Y-%m-%d\")\n",
    "whenever"
   ]
  },
  {
   "cell_type": "code",
   "execution_count": 30,
   "metadata": {},
   "outputs": [
    {
     "data": {
      "text/plain": [
       "datetime.datetime(2017, 12, 31, 20, 59)"
      ]
     },
     "execution_count": 30,
     "metadata": {},
     "output_type": "execute_result"
    }
   ],
   "source": [
    "#create a datetime object out of string, including hour, minutes, and seconds\n",
    "whenever = datetime.strptime(\"2017:12:31:20:59\", \"%Y:%m:%d:%H:%M\")\n",
    "whenever"
   ]
  },
  {
   "cell_type": "code",
   "execution_count": 31,
   "metadata": {},
   "outputs": [
    {
     "data": {
      "text/plain": [
       "'2017-12-31 20:59'"
      ]
     },
     "execution_count": 31,
     "metadata": {},
     "output_type": "execute_result"
    }
   ],
   "source": [
    "#create a string out of a datetime object\n",
    "whenever.strftime(\"%Y-%m-%d %H:%M\")"
   ]
  },
  {
   "cell_type": "markdown",
   "metadata": {},
   "source": [
    "[Here](http://strftime.org) is a complete list of srftime symbols. "
   ]
  },
  {
   "cell_type": "markdown",
   "metadata": {},
   "source": [
    "Use *dir(whenever)* to get a list of methods and properties applied to the datetime object. Examples are *whenever.year*, *whenever.month*, *whenever.day*, etc."
   ]
  },
  {
   "cell_type": "markdown",
   "metadata": {
    "collapsed": true
   },
   "source": [
    "**Lecture 67:** [Complete List of Datetime Formatting Codes](https://www.udemy.com/the-python-mega-course/learn/v4/t/lecture/9550362?start=0)\n",
    "---"
   ]
  },
  {
   "cell_type": "markdown",
   "metadata": {},
   "source": [
    "Again, this lecture contains the complete list of srtfime formatting codes."
   ]
  },
  {
   "cell_type": "markdown",
   "metadata": {
    "collapsed": true
   },
   "source": [
    "**Lecture 68:** [Iterating Multiple Sequences](https://www.udemy.com/the-python-mega-course/learn/v4/t/lecture/9529662?start=0)\n",
    "---"
   ]
  },
  {
   "cell_type": "code",
   "execution_count": 35,
   "metadata": {},
   "outputs": [
    {
     "name": "stdout",
     "output_type": "stream",
     "text": [
      "a 1\n",
      "b 2\n",
      "c 3\n"
     ]
    }
   ],
   "source": [
    "#accessing items from two sequences at the same time\n",
    "a = ['a', 'b', 'c']\n",
    "b = [1, 2, 3]\n",
    "for i, j in zip(a, b):\n",
    "    print(i, j)"
   ]
  },
  {
   "cell_type": "code",
   "execution_count": 37,
   "metadata": {},
   "outputs": [
    {
     "name": "stdout",
     "output_type": "stream",
     "text": [
      "a is 1\n",
      "b is 2\n",
      "c is 3\n"
     ]
    }
   ],
   "source": [
    "# a more advanced version\n",
    "for i, j in zip(a, b):\n",
    "    print(\"%s is %s\" % (i, j))"
   ]
  },
  {
   "cell_type": "markdown",
   "metadata": {
    "collapsed": true
   },
   "source": [
    "**Lecture 69:** [The \"with\" Context Manager](https://www.udemy.com/the-python-mega-course/learn/v4/t/lecture/9529652?start=0)\n",
    "---"
   ]
  },
  {
   "cell_type": "code",
   "execution_count": 39,
   "metadata": {
    "collapsed": true
   },
   "outputs": [],
   "source": [
    "#opening a file using the standard way\n",
    "myfile = open(\"example.txt\", \"w\")\n",
    "myfile.write(\"Something\")\n",
    "myfile.close()"
   ]
  },
  {
   "cell_type": "code",
   "execution_count": 40,
   "metadata": {
    "collapsed": true
   },
   "outputs": [],
   "source": [
    "#opening a file using the \"with\" context manager\n",
    "with open(\"example.txt\", \"w\") as myfile:\n",
    "    myfile.write(\"Something\")"
   ]
  },
  {
   "cell_type": "markdown",
   "metadata": {
    "collapsed": true
   },
   "source": [
    "**Lecture 70:** [Exercise](https://www.udemy.com/the-python-mega-course/learn/v4/t/lecture/5173680?start=0)\n",
    "---"
   ]
  },
  {
   "cell_type": "markdown",
   "metadata": {},
   "source": [
    "Please take a look at the following code:"
   ]
  },
  {
   "cell_type": "code",
   "execution_count": null,
   "metadata": {
    "collapsed": true
   },
   "outputs": [],
   "source": [
    "temperatures = [10, -20, -289, 100]\n",
    "def c_to_f(c):\n",
    "    if c < -273.15:\n",
    "        return \"That temperature doesn't make sense!\"\n",
    "    else:\n",
    "        f = c* 9/5 + 32\n",
    "        return f\n",
    "for t in temperatures:\n",
    "    print(c_to_f(t))"
   ]
  },
  {
   "cell_type": "markdown",
   "metadata": {},
   "source": [
    "The code prints out the output of the *c_to_f*  function multiple times in the terminal. \n",
    "\n",
    "For this exercise, please write the output in a text file instead of printing it out in the terminal.\n",
    "\n",
    "The text file content will look like this:<br>\n",
    "\n",
    "50.0<br>\n",
    "-4.0<br>\n",
    "212.0<br>\n",
    "\n",
    "Please don't write any message in the text file when input is lower than -273.15."
   ]
  },
  {
   "cell_type": "markdown",
   "metadata": {
    "collapsed": true
   },
   "source": [
    "**Lecture 71:** [Solution](https://www.udemy.com/the-python-mega-course/learn/v4/t/lecture/5173682?start=0)\n",
    "---"
   ]
  },
  {
   "cell_type": "code",
   "execution_count": 42,
   "metadata": {
    "collapsed": true
   },
   "outputs": [],
   "source": [
    "#one solution\n",
    "temperatures = [10,-20,-289,100]\n",
    " \n",
    "def writer(temperatures):\n",
    "    with open(\"temps.txt\", 'w') as file:\n",
    "        for c in temperatures:\n",
    "            if c > -273.15:\n",
    "                f = c* 9/5 + 32\n",
    "                file.write(str(f) + \"\\n\")\n",
    " \n",
    "writer(temperatures) #Here we're calling the function, otherwise no output will be generated"
   ]
  },
  {
   "cell_type": "code",
   "execution_count": 43,
   "metadata": {
    "collapsed": true
   },
   "outputs": [],
   "source": [
    "#an even better solution\n",
    "temperatures = [10,-20,-289,100]\n",
    " \n",
    "def writer(temperatures, filepath):\n",
    "    with open(filepath, 'w') as file:\n",
    "        for c in temperatures:\n",
    "            if c > -273.15:\n",
    "                f = c* 9/5 + 32\n",
    "                file.write(str(f) + \"\\n\")\n",
    " \n",
    "writer(temperatures, \"temps.txt\") #Here we're calling the function, otherwise no output will be generated"
   ]
  },
  {
   "cell_type": "markdown",
   "metadata": {
    "collapsed": true
   },
   "source": [
    "**Lecture 72 -73:** [Exercise](https://www.udemy.com/the-python-mega-course/learn/v4/t/lecture/5220516?start=0)\n",
    "---"
   ]
  },
  {
   "cell_type": "markdown",
   "metadata": {},
   "source": [
    "Here is a tricky exercise.\n",
    "\n",
    "1. Please download [these three files](http://pythonhow.com/data/3files/) and put them in a folder. The first text file contains the text *Content1* . The second contains *Content2* and the third *Content3* .\n",
    "<br>\n",
    "2. You should create a Python script that generates a new text file which should contain the content of all three text files. So the generated file should have this content:\n",
    "<br>\n",
    "*Content1 <br>\n",
    "Content2 <br>\n",
    "Content3* <br>\n",
    "\n",
    "In other words, your Python script should merge the three text files. \n",
    "<br>\n",
    "3. Also, the name of the output file should be the current timestamp. Example: *2017-11-01-13-57-39-170965.txt* \n",
    "\n",
    "You have some tips in the next lecture and the solution in the lecture after that."
   ]
  },
  {
   "cell_type": "markdown",
   "metadata": {
    "collapsed": true
   },
   "source": [
    "**Lecture 74:** [Solution](https://www.udemy.com/the-python-mega-course/learn/v4/t/lecture/5220572?start=0)\n",
    "---"
   ]
  },
  {
   "cell_type": "code",
   "execution_count": 45,
   "metadata": {
    "collapsed": true
   },
   "outputs": [],
   "source": [
    "import glob2\n",
    "from datetime import datetime\n",
    " \n",
    "filenames = glob2.glob(\"*.txt\")\n",
    "with open(datetime.now().strftime(\"%Y-%m-%d-%H-%M-%S-%f\")+\".txt\", 'w') as file:\n",
    "    for filename in filenames:       \n",
    "        with open(filename, \"r\") as f:\n",
    "            file.write(f.read() + \"\\n\")"
   ]
  }
 ],
 "metadata": {
  "kernelspec": {
   "display_name": "Python 3",
   "language": "python",
   "name": "python3"
  },
  "language_info": {
   "codemirror_mode": {
    "name": "ipython",
    "version": 3
   },
   "file_extension": ".py",
   "mimetype": "text/x-python",
   "name": "python",
   "nbconvert_exporter": "python",
   "pygments_lexer": "ipython3",
   "version": "3.6.3"
  }
 },
 "nbformat": 4,
 "nbformat_minor": 2
}
